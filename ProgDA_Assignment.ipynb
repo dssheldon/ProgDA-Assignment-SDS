{
 "cells": [
  {
   "cell_type": "markdown",
   "metadata": {},
   "source": [
    "## Programming for Data Analysis - Assignment\n",
    "\n",
    "This notebook is for the assignment for ProgDA - Author: Sheldon D'Souza (email: g00387857@gmit.ie)\n",
    "\n",
    "***"
   ]
  },
  {
   "cell_type": "markdown",
   "metadata": {},
   "source": [
    "#### Problem statement\n",
    "\n",
    "The assignment concerns the numpy.random package in Python. You are required to create a Jupyter notebook explaining the use of the package, including detailed explanations of at least five of the distributions provided for in the package. There are four distinct tasks to be carried out in your Jupyter notebook.\n",
    "\n",
    "1. Explain the overall purpose of the package.\n",
    "2. Explain the use of the “Simple random data” and “Permutations” functions.\n",
    "3. Explain the use and purpose of at least five “Distributions” functions.\n",
    "4. Explain the use of seeds in generating pseudorandom numbers.\n"
   ]
  },
  {
   "cell_type": "markdown",
   "metadata": {},
   "source": [
    "Project Plan:\n",
    "- Research the numpy.random package via official documentation and online tutorial videos.\n",
    "- Research the Simple random data and Permutatin functions via official documentation and online tutorial videos.\n",
    "- Choose 5 Distributions functions. Choose a dataset or generate data to show the differences between the distibution\n",
    "- Research seeds generation and given coded example\n",
    "- Research creative methods to \"explain\" the above narratively and/or visually  \n"
   ]
  },
  {
   "cell_type": "markdown",
   "metadata": {},
   "source": []
  },
  {
   "cell_type": "markdown",
   "metadata": {},
   "source": []
  },
  {
   "cell_type": "markdown",
   "metadata": {},
   "source": [
    "<img src=https://live.staticflickr.com/748/20445410340_c1a0fe6a6a_b.jpg alt=\"Randomness\" width=\"500\"/>\n",
    "\n",
    "\n",
    "*Image Credit: \"Binary code\" by Christiaan Colen is licensed under CC BY-SA 2.0*\n"
   ]
  },
  {
   "cell_type": "markdown",
   "metadata": {},
   "source": [
    "##### Note - Important changes to numpy.random\n",
    "\n",
    "There have been some changes to the numpy random module since version 1.17.0. These changes are summarised on the numpy wesite page below:\n",
    "\n",
    "https://numpy.org/devdocs/reference/random/index.html\n",
    "\n",
    "A very brief overview of the changes are as follows:\n",
    "\n",
    "Numpy 1.17.0 introduces a new random number generator system. While the details of this (Bitgenerators and Generators) can be quite technical, simply put the older system made use of the global random generator object which was shared across the application. The newer system creates a random generator object with default_rng() and uses that object to generate random numbers without relying on the global state. The older system (RandomState) is not obsolete, rather, in most cases, it should be avoided whenever reproducible \"randomness\" is required.\n",
    "\n",
    "The older system used the Mersenne Twister BitGenerator whereas the new system uses the the PCG65 Bitgenerator. As per numpy.org offical documentation(https://numpy.org/doc/stable/reference/random/index.html):\n",
    "\n",
    ">Call default_rng to get a new instance of a Generator, then call its methods to obtain samples from different distributions. By default, Generator uses bits provided by PCG64 which has better statistical properties than the legacy MT19937 used in RandomState."
   ]
  },
  {
   "cell_type": "markdown",
   "metadata": {},
   "source": [
    "#### Part 1 - The purpose of the Numpy.random package\n",
    "\n",
    "##### The problem with generating randomness\n",
    "\n",
    "*What is a random number/sequence*\n",
    "\n",
    "A numeric sequence is said to be statistically random when it contains no recognizable patterns or regularities; sequences such as the results of an ideal dice roll or the digits of π exhibit statistical randomness.[1]\n",
    "\n",
    "*Why is it so difficult to generate a random number/sequence*\n",
    "\n",
    "Computers need instruction or programs to generate to do any task which includes generating random numbers. This means that an algrothim will also needed to generate a random number. The fact that there is an algrothim behind the generation means that it is not completely random and therefore these numbers are called pseudo random numbers (\"PRN\").[2]\n",
    "\n",
    "##### What does numpy.random do\n",
    "\n",
    "As per official documentation:\n",
    "\n",
    "> Numpy’s random number routines produce pseudo random numbers using combinations of a BitGenerator to create sequences and a Generator to use those sequences to sample from different statistical distributions [3]\n",
    "\n",
    "In other words any pseudo random numbers generator such as numpy.random will use an alogrothim to produce a stream of numbers which would exhibit statistical randomness. A 'seed' is often used as a 'starting point which is 'fed' into a software algrothim to produce a sequence of seemingly random numbers. The seed used can either be specified or can be automatically selected by e.g. the current date/time of the system running the generator etc.[4]   \n",
    "\n",
    "\n",
    "A very simple way of looking at this would be in the example below:"
   ]
  },
  {
   "cell_type": "code",
   "execution_count": 119,
   "metadata": {},
   "outputs": [],
   "source": [
    "def random_gen(how_many_nos=10, seed=400): #demo limitation - max number of items is 20 and seed value between 400 and 800\n",
    "    l = []\n",
    "    for n in range((how_many_nos)):\n",
    "        seed = (seed/7) + (n * 5) + ((2 * 3/50) % 4) + (22/7) # this is an example of a software algorithim number generator\n",
    "        y = str(seed) #convert number to string for slicing\n",
    "        z = y[4:8] #using slicing to further 'randomise numbers'\n",
    "        l.append(int(z)) #convert back to integer\n",
    "\n",
    "    print(l) #used instead of return() so that all values can be seen below"
   ]
  },
  {
   "cell_type": "code",
   "execution_count": 120,
   "metadata": {},
   "outputs": [
    {
     "name": "stdout",
     "output_type": "stream",
     "text": [
      "[6285, 5755, 4250, 6892, 127]\n",
      "[571, 4938, 9848, 1978]\n",
      "[2, 9428, 489, 641, 663, 666, 3523, 6789]\n",
      "[6285, 5755, 4250, 6892, 127]\n"
     ]
    }
   ],
   "source": [
    "random_gen(5,560)\n",
    "random_gen(4,442)\n",
    "random_gen(8,650)\n",
    "random_gen(5,560)"
   ]
  },
  {
   "cell_type": "markdown",
   "metadata": {},
   "source": [
    "The above function would be an example of an algorithim based generator which based on the seed would generate a list of seemingly random numbers. The key here is to generate a sufficiently long sequence of numbers is and based on a 'seed' number, the result will have the effect of being randomly generated. \n",
    "\n",
    "In the function above the user will include the number of random items to be generated along with a seed number (to reproduce results. Both inputs are then incuded in a software equation to generate a random number. In the above example I have converted the resultant number to a text string and then taken a slice of that string, to further randomise the number.\n",
    "\n",
    "As can be seen above, If the same seed is used, the same sequence of random numbers will be generated.\n",
    "\n",
    "The above is a very crude example of explaining how a generator like numpy generates pseudo random numbers"
   ]
  },
  {
   "cell_type": "markdown",
   "metadata": {},
   "source": [
    "References\n",
    "[1] - https://en.wikipedia.org/wiki/Statistical_randomness\n",
    "\n",
    "[2] - https://www.w3schools.com/python/numpy_random.asp\n",
    "\n",
    "[3] - https://numpy.org/doc/stable/reference/random/index.html?highlight=random#what-s-new-or-different\n",
    "\n",
    "[4] - https://realpython.com/python-random/\n",
    "\n",
    "[5] - https://stackoverflow.com/questions/59728162/how-to-use-numpy-random-to-generate-random-numbers-from-a-certain-distribution\n",
    "\n"
   ]
  },
  {
   "cell_type": "markdown",
   "metadata": {},
   "source": [
    "#### Part 2 - Use of 'Simple Random Data' and 'Permutations' functions"
   ]
  },
  {
   "cell_type": "markdown",
   "metadata": {},
   "source": [
    "###### 'Simple Random Data' functions\n",
    "\n",
    "\n",
    "A 'Simple Random Data' function within numpy is, as the name suggests, a function to generate a 'simple' randomly generated value or array of values. Here simple means that each number within the range, has an equal chance of being selected/generated at every iteration of selection. A a real word example if we are rolling a die, each number from 1 to 6 has an equal chance of being selected on each roll.\n",
    "\n",
    "This is as opposed to data generated by a 'Distribution' which may have a certain 'weighting' towards certain values of range of values which may be expected to occur more frequently than others. An example of this is that if we are generating random values with regards to height of a population, we would expect the results to be skewed in way which would result in a greater number of values generated towards a 'mean' height.\n",
    "\n",
    "\n",
    "There are a number functions inbuilt within numpy to generate 'simple' random data:\n",
    "\n",
    "| Function | Description |\n",
    "| :-------- | :----------- |\n",
    "| integers | Return random integers from low to high |\n",
    "| random | Return random floats in the half-open interval (0.0, 1.0) |\n",
    "| choice |Generates a random sample from a given 1-D array |\n",
    "| bytes | Return random bytes |\n"
   ]
  },
  {
   "cell_type": "markdown",
   "metadata": {},
   "source": [
    "*Integer Function*\n",
    "\n",
    ">Return random integers from low (inclusive) to high (exclusive), or if endpoint=True, low (inclusive) to high (inclusive). Replaces RandomState.randint (with endpoint=False) and RandomState.random_integers (with endpoint=True)\n",
    ">\n",
    ">Return random integers from the “discrete uniform” distribution of the specified dtype. If high is None (the default), then results are from 0 to low."
   ]
  },
  {
   "cell_type": "markdown",
   "metadata": {},
   "source": [
    "The 'Integer' function returns a random integer between a specified range of two numbers (low and high). By default the low value is included in the selection range and the high number is excluded from the selection range. See below: "
   ]
  },
  {
   "cell_type": "code",
   "execution_count": 20,
   "metadata": {},
   "outputs": [
    {
     "data": {
      "text/plain": [
       "7"
      ]
     },
     "execution_count": 20,
     "metadata": {},
     "output_type": "execute_result"
    }
   ],
   "source": [
    "import numpy as np\n",
    "np.random.default_rng().integers(2,10) #2 is the low and 100 is the high value"
   ]
  },
  {
   "cell_type": "markdown",
   "metadata": {},
   "source": [
    "If the argument endpoint=True is passed than the high and the low values are included in the selection range of the function. As below:"
   ]
  },
  {
   "cell_type": "code",
   "execution_count": 21,
   "metadata": {},
   "outputs": [
    {
     "data": {
      "text/plain": [
       "5"
      ]
     },
     "execution_count": 21,
     "metadata": {},
     "output_type": "execute_result"
    }
   ],
   "source": [
    "np.random.default_rng().integers(2,10, endpoint=True) #2 is the low and 100 is the high value; endpoint=True"
   ]
  },
  {
   "cell_type": "markdown",
   "metadata": {},
   "source": [
    "If the size argument is passed to the function the function will return an array of the dimensions specifed in the size argument. As below:"
   ]
  },
  {
   "cell_type": "code",
   "execution_count": 22,
   "metadata": {},
   "outputs": [
    {
     "name": "stdout",
     "output_type": "stream",
     "text": [
      "This is a example of a one dimentional array of randomly generated numbers within a specifed range:\n",
      "[4 6]\n",
      "\n",
      "This is a example of a two dimentional array of randomly generated numbers within a specifed range:\n",
      "[[7 5 6 2]\n",
      " [8 6 8 5]]\n"
     ]
    }
   ],
   "source": [
    "print('This is a example of a one dimentional array of randomly generated numbers within a specifed range:')\n",
    "x = np.random.default_rng().integers(2,10, size=(2))\n",
    "print(x)\n",
    "print()\n",
    "print('This is a example of a two dimentional array of randomly generated numbers within a specifed range:')\n",
    "y = np.random.default_rng().integers(2,10, size=(2,4))\n",
    "print(y)"
   ]
  },
  {
   "cell_type": "markdown",
   "metadata": {},
   "source": [
    "*random function*\n",
    "\n",
    ">Return random floats in the half-open interval (0.0, 1.0).\n",
    ">\n",
    ">Results are from the “continuous uniform” distribution over the stated interval. To sample Unif(a, b), b > a multiply the output of random by (b-a) and add a:\n",
    ">\n",
    "> `(b - a) * random() + a`\n"
   ]
  },
  {
   "cell_type": "markdown",
   "metadata": {},
   "source": [
    "The random funtion returns a random number between 0 and 1. Where 0 is included in the selection and 1 is excluded in the selection. The result of the function are 'continuous' random floating point numbers.  See below:  "
   ]
  },
  {
   "cell_type": "code",
   "execution_count": 24,
   "metadata": {
    "scrolled": true
   },
   "outputs": [
    {
     "data": {
      "text/plain": [
       "0.13237455220166083"
      ]
     },
     "execution_count": 24,
     "metadata": {},
     "output_type": "execute_result"
    }
   ],
   "source": [
    "np.random.default_rng().random()"
   ]
  },
  {
   "cell_type": "markdown",
   "metadata": {},
   "source": [
    "If the size argument is passed to the function, the function will return an array of the dimensions, specifed in the size argument. As below:"
   ]
  },
  {
   "cell_type": "code",
   "execution_count": 25,
   "metadata": {},
   "outputs": [
    {
     "data": {
      "text/plain": [
       "array([[0.51940931, 0.50767173, 0.32331463],\n",
       "       [0.09068127, 0.48579871, 0.96606078]])"
      ]
     },
     "execution_count": 25,
     "metadata": {},
     "output_type": "execute_result"
    }
   ],
   "source": [
    "np.random.default_rng().random(size=(2,3))"
   ]
  },
  {
   "cell_type": "markdown",
   "metadata": {},
   "source": [
    "If the user wants to sample between a range of numbers a & b, where a is the 'lower' value and b is the 'higher' value, then this can be done by using a 'formula' within the function:\n",
    "\n",
    "`(b - a) * random() + a`\n",
    "\n",
    "So in other words if we want to sample from values of 2 to 10 using the 'random' function the way to do this would be as follows:"
   ]
  },
  {
   "cell_type": "code",
   "execution_count": 31,
   "metadata": {},
   "outputs": [
    {
     "name": "stdout",
     "output_type": "stream",
     "text": [
      "The sample selected between the range 2 and 10, using the random function\n"
     ]
    },
    {
     "data": {
      "text/plain": [
       "6.979964305621499"
      ]
     },
     "execution_count": 31,
     "metadata": {},
     "output_type": "execute_result"
    }
   ],
   "source": [
    "print('The sample selected between the range 2 and 10, using the random function')\n",
    "\n",
    "(10 - 2) * np.random.default_rng().random() + 2"
   ]
  },
  {
   "cell_type": "markdown",
   "metadata": {},
   "source": [
    "*choice function*"
   ]
  },
  {
   "cell_type": "markdown",
   "metadata": {},
   "source": [
    "> `Generator.choice(a, size=None, replace=True, p=None, axis=0, shuffle=True)`\n",
    ">\n",
    ">Generates a random sample from a given 1-D array"
   ]
  },
  {
   "cell_type": "markdown",
   "metadata": {},
   "source": [
    "The `choice` function takes in as input an array and returns random value(s) from the input. The input is generally in the form of an array, however the choice function is flexible enough to take in a various types of number sequences as inputs incuding lists, tuples etc. The output is an array of  numeric values or a single value (if a 1D array is passes as an input). Simply put the function makes a random choice(s) from a given group/set/array of numbers provided and returns the chosen values.\n",
    "\n",
    "The input can also be a multidimentional array, however this is not covered within the explanation here.\n",
    "\n",
    "As can be see above the function has only one required argument 'a' which is the 'input'.\n"
   ]
  },
  {
   "cell_type": "code",
   "execution_count": 24,
   "metadata": {},
   "outputs": [
    {
     "name": "stdout",
     "output_type": "stream",
     "text": [
      "A single number as an input works like the range() function where numbers are generated upto but excluding the input digit\n",
      "11\n",
      "\n",
      "This is an example of an array as an input:\n",
      "35\n"
     ]
    }
   ],
   "source": [
    "import numpy as np\n",
    "\n",
    "x = np.random.default_rng().choice(15)\n",
    "print('A single number as an input works like the range() function where numbers are generated upto but excluding the input digit')\n",
    "print(x)\n",
    "\n",
    "print()\n",
    "y = np.random.default_rng().choice(([ 12,  18,  35]))\n",
    "\n",
    "print('This is an example of an array as an input:')\n",
    "print(y)"
   ]
  },
  {
   "cell_type": "markdown",
   "metadata": {},
   "source": [
    "The size argument will allow the user of the function to specify the size (or dimensions) of the output array, constructed by randomly choosing from the input."
   ]
  },
  {
   "cell_type": "code",
   "execution_count": 27,
   "metadata": {},
   "outputs": [
    {
     "data": {
      "text/plain": [
       "array([[ 1, 10,  2]], dtype=int64)"
      ]
     },
     "execution_count": 27,
     "metadata": {},
     "output_type": "execute_result"
    }
   ],
   "source": [
    "np.random.default_rng().choice(15, size=(1,3))"
   ]
  },
  {
   "cell_type": "markdown",
   "metadata": {},
   "source": [
    "The replace argument can be set to True or False. This argument will determine whether the value the first value selected will be 'replaced' or included back into the population when the second choice is made. In other words the replace function will determine whether the number sampled will be removed from the population when the second (and subsequent) choices. When replace=False, each value from the population will only have a chance of being selected be selected once."
   ]
  },
  {
   "cell_type": "code",
   "execution_count": 42,
   "metadata": {},
   "outputs": [
    {
     "name": "stdout",
     "output_type": "stream",
     "text": [
      "Each value will be selected only once:\n",
      "[[0 1 2 3 4 5 6 7]]\n",
      "\n",
      "Each value can be selected multiple times:\n",
      "[[0 1 1 3 3 3 5 7]]\n"
     ]
    }
   ],
   "source": [
    "x = np.random.default_rng().choice(8, size=(1,8), replace=False)\n",
    "print('Each value will be selected only once:')\n",
    "print(np.sort(x)) #sorted for ease\n",
    "print()\n",
    "\n",
    "y = np.random.default_rng().choice(8, size=(1,8), replace=True)\n",
    "print('Each value can be selected multiple times:')\n",
    "print(np.sort(y))"
   ]
  },
  {
   "cell_type": "markdown",
   "metadata": {},
   "source": [
    "The 'p' argument will specify the probability of each item of input being selected. If no value is given to p, the choice function gives each item an equal chance (or probability of being selected)"
   ]
  },
  {
   "cell_type": "code",
   "execution_count": 51,
   "metadata": {},
   "outputs": [
    {
     "name": "stdout",
     "output_type": "stream",
     "text": [
      "The results will be skewed towards the items with higher probability:\n",
      "[[4 5 5 5 5 5 6 6]]\n"
     ]
    }
   ],
   "source": [
    "x = np.random.default_rng().choice((1,2,3,4,5,6), size=(1,8), replace=True, p=(0.01,0.01,0.01,0.01,0.48,0.48))\n",
    "print('The results will be skewed towards the items with higher probability:')\n",
    "print(np.sort(x))"
   ]
  },
  {
   "cell_type": "markdown",
   "metadata": {},
   "source": [
    "*bytes function*"
   ]
  },
  {
   "cell_type": "markdown",
   "metadata": {},
   "source": [
    "> `Generator.bytes(length)`\n",
    ">\n",
    ">Return random bytes."
   ]
  },
  {
   "cell_type": "markdown",
   "metadata": {},
   "source": [
    "The bytes function returns random bytes of the length specified within the function. Generating random bytes may be used for the purpose of testing, however as specified within the documentation, numpy random numbers are not cryptographically secure and therefore should not be used for this purpose."
   ]
  },
  {
   "cell_type": "code",
   "execution_count": 4,
   "metadata": {},
   "outputs": [
    {
     "name": "stdout",
     "output_type": "stream",
     "text": [
      "b'\\x176\\x87\\x03\\x17|\\x9d\\x9a\\xf9)'\n"
     ]
    }
   ],
   "source": [
    "import numpy as np\n",
    "x = np.random.default_rng().bytes(10)\n",
    "print(x)"
   ]
  },
  {
   "cell_type": "markdown",
   "metadata": {},
   "source": [
    "As explained in the Real Python 'Generating Random Data in Python (Guide)', these random bytes are displayed as a mix between hexadecimal characters and literal printable characters:\n",
    "\n",
    ">These backslashes are escape sequences, and \\xhh represents the character with hex value hh. Some of the elements of bites are displayed literally (printable characters such as letters, numbers, and punctuation). Most are expressed with escapes.\n",
    ">\n",
    ">Reference: https://realpython.com/python-random/\n",
    "\n",
    "\n",
    "The bytes characters generated can be converted into decimal, hexadecimal or binary characters as shown below:"
   ]
  },
  {
   "cell_type": "code",
   "execution_count": 33,
   "metadata": {},
   "outputs": [
    {
     "name": "stdout",
     "output_type": "stream",
     "text": [
      "As shown above this is the bytes string generated by the function:\n",
      "b'\\xe5\\xaaHe\\x91\\xa9\\xf64\\xe2\\x1a'\n",
      "\n",
      "This is the hexadecimal equivalent of the bytes generated:\n",
      "e5aa486591a9f634e21a\n",
      "\n",
      "This is a  list of the decimal value of each byte generated:\n",
      "[229, 170, 72, 101, 145, 169, 246, 52, 226, 26]\n",
      "\n",
      "This is a list of the hexadecimal value of each byte generated:\n",
      "['0xe5', '0xaa', '0x48', '0x65', '0x91', '0xa9', '0xf6', '0x34', '0xe2', '0x1a']\n",
      "\n",
      "This is a list of the binary value of each byte generated:\n",
      "['0b11100101', '0b10101010', '0b1001000', '0b1100101', '0b10010001', '0b10101001', '0b11110110', '0b110100', '0b11100010', '0b11010']\n"
     ]
    }
   ],
   "source": [
    "print('As shown above this is the bytes string generated by the function:')\n",
    "x = np.random.default_rng().bytes(10)\n",
    "print(x)\n",
    "print()\n",
    "\n",
    "print('This is the hexadecimal equivalent of the bytes generated:')\n",
    "print(x.hex())\n",
    "print()\n",
    "\n",
    "\n",
    "print('This is a  list of the decimal value of each byte generated:')\n",
    "y = list(x)\n",
    "print(y)\n",
    "print()\n",
    "\n",
    "print('This is a list of the hexadecimal value of each byte generated:')\n",
    "print([hex(a) for a in y])\n",
    "print()\n",
    "\n",
    "print('This is a list of the binary value of each byte generated:')\n",
    "print([bin(a) for a in y])\n"
   ]
  },
  {
   "cell_type": "markdown",
   "metadata": {},
   "source": [
    "References:\n",
    "\n",
    "https://numpy.org/doc/stable/reference/random/generator.html"
   ]
  },
  {
   "cell_type": "markdown",
   "metadata": {},
   "source": []
  },
  {
   "cell_type": "markdown",
   "metadata": {},
   "source": [
    "###### 'Permutations' functions"
   ]
  },
  {
   "cell_type": "markdown",
   "metadata": {},
   "source": [
    "The Permutations functions within numpy allow a user to re-arrange data in a specific manner. There are two permutations functions:\n",
    "\n",
    "* shuffle\n",
    "* permutation\n"
   ]
  },
  {
   "cell_type": "markdown",
   "metadata": {},
   "source": [
    "*shuffle function*"
   ]
  },
  {
   "cell_type": "markdown",
   "metadata": {},
   "source": [
    "As per the official documentation, the shuffle function works as follow:\n",
    "\n",
    ">`Generator.shuffle(x, axis=0)`\n",
    ">\n",
    ">Modify a sequence in-place by shuffling its contents.\n",
    ">\n",
    ">The order of sub-arrays is changed but their contents remains the same.\n",
    "\n",
    "In other words the shuffle function will change the order (at random) of the contents of an array. This can be useful where we need use the same data but with different order or sequence. The function shuffles the array 'in place' which mean that it changes the orginal input passed to the function.\n",
    "\n",
    "See below examples of the shuffle function:"
   ]
  },
  {
   "cell_type": "code",
   "execution_count": 16,
   "metadata": {},
   "outputs": [
    {
     "name": "stdout",
     "output_type": "stream",
     "text": [
      "Shuffling lists using the shuffle function:\n",
      "\n",
      "This is the original list:\n",
      "[2, 3, 6, 7, 8, 9, 15, 10]\n",
      "This is the shuffled list:\n",
      "[10, 3, 8, 9, 7, 15, 2, 6]\n",
      "\n",
      "The shuffle function can be used on a list of strings as well:\n",
      "This is the original list:\n",
      "['spam', 'eggs', 'bacon', 'cheese', 'crisps']\n",
      "This is the shuffled list:\n",
      "['bacon', 'eggs', 'spam', 'crisps', 'cheese']\n"
     ]
    }
   ],
   "source": [
    "import numpy as np\n",
    "\n",
    "print('Shuffling lists using the shuffle function:')\n",
    "\n",
    "\n",
    "print()\n",
    "x = [2,3,6,7,8,9,15,10]\n",
    "\n",
    "print('This is the original list:')\n",
    "print(x)\n",
    "\n",
    "print('This is the shuffled list:')\n",
    "np.random.default_rng().shuffle(x)\n",
    "print(x)\n",
    "\n",
    "print()\n",
    "\n",
    "print('The shuffle function can be used on a list of strings as well:')\n",
    "\n",
    "y = ['spam', 'eggs', 'bacon', 'cheese', 'crisps']\n",
    "\n",
    "print('This is the original list:')\n",
    "print(y)\n",
    "\n",
    "print('This is the shuffled list:')\n",
    "np.random.default_rng().shuffle(y)\n",
    "print(y)\n",
    "\n"
   ]
  },
  {
   "cell_type": "markdown",
   "metadata": {},
   "source": [
    "*permutation function*"
   ]
  },
  {
   "cell_type": "markdown",
   "metadata": {},
   "source": [
    "A per the numpy documentation:\n",
    "\n",
    "> `Generator.permutation(x, axis=0)`\n",
    ">\n",
    ">Randomly permute a sequence, or return a permuted range\n",
    "\n",
    "In other words the permutation function will generate permutations of the given input array. Let's explore the concept of permutations below to fully understand what a permutation is:"
   ]
  },
  {
   "cell_type": "markdown",
   "metadata": {},
   "source": [
    "What is a permutation?\n",
    "\n",
    "As per investopedia[2A]:\n",
    "\n",
    ">A permutation is a mathematical calculation of the number of ways a particular set can be arranged, where the order of the arrangement matters. \n",
    "\n",
    "In Summary [2A]:\n",
    ">* Premutation is the number of ways a set can be arranged. \n",
    ">* Roughly, it means, “how many ways can something be arranged.”  \n",
    ">* The order of numbers in a permutation, with a combination, however, the order does not matter.\n",
    "\n",
    "The short video below will further illustrate what a permutation is: "
   ]
  },
  {
   "cell_type": "code",
   "execution_count": 5,
   "metadata": {},
   "outputs": [
    {
     "data": {
      "image/jpeg": "[encoded data removed]",
      "text/html": [
       "\n",
       "        <iframe\n",
       "            width=\"400\"\n",
       "            height=\"200\"\n",
       "            src=\"https://www.youtube.com/embed/zRgB3hOfEMU\"\n",
       "            frameborder=\"0\"\n",
       "            allowfullscreen\n",
       "        ></iframe>\n",
       "        "
      ],
      "text/plain": [
       "<IPython.lib.display.YouTubeVideo at 0x1ac441dbac0>"
      ]
     },
     "execution_count": 5,
     "metadata": {},
     "output_type": "execute_result"
    }
   ],
   "source": [
    "from IPython.display import Audio,Image, YouTubeVideo\n",
    "id='zRgB3hOfEMU'\n",
    "YouTubeVideo(id=id,width=400,height=200)"
   ]
  },
  {
   "cell_type": "markdown",
   "metadata": {},
   "source": [
    "See examples of the permutation function below:"
   ]
  },
  {
   "cell_type": "code",
   "execution_count": 19,
   "metadata": {},
   "outputs": [
    {
     "name": "stdout",
     "output_type": "stream",
     "text": [
      "Creating permutations of list using the permutation function:\n",
      "\n",
      "This is the original list:\n",
      "[2, 3, 6, 7, 8, 9, 15, 10]\n",
      "This is the permuted list:\n",
      "[15  9  2  3  6  8 10  7]\n",
      "\n",
      "The permutation function can be used on a list of strings as well:\n",
      "This is the original list:\n",
      "['spam', 'eggs', 'bacon', 'cheese', 'crisps']\n",
      "This is the permuted  list:\n",
      "['eggs' 'spam' 'bacon' 'crisps' 'cheese']\n"
     ]
    }
   ],
   "source": [
    "import numpy as np\n",
    "\n",
    "print('Creating permutations of list using the permutation function:')\n",
    "\n",
    "\n",
    "print()\n",
    "x = [2,3,6,7,8,9,15,10]\n",
    "\n",
    "print('This is the original list:')\n",
    "print(x)\n",
    "\n",
    "print('This is the permuted list:')\n",
    "y = np.random.default_rng().permutation(x)\n",
    "print(y)\n",
    "\n",
    "print()\n",
    "\n",
    "print('The permutation function can be used on a list of strings as well:')\n",
    "\n",
    "z = ['spam', 'eggs', 'bacon', 'cheese', 'crisps']\n",
    "\n",
    "print('This is the original list:')\n",
    "print(z)\n",
    "\n",
    "print('This is the permuted  list:')\n",
    "a = np.random.default_rng().permutation(z)\n",
    "print(a)"
   ]
  },
  {
   "cell_type": "markdown",
   "metadata": {},
   "source": [
    "*Main difference between shuffle and permutation function:*\n",
    "\n",
    "The main difference between the shuffle and permutation function is that the shuffle function shuffles the orginal input (in-place) whereas the permutation function leaves the original input sequence intact.\n",
    "\n",
    "In the above examples we had to pass the outupt of the permutation function to a new variable to preserve the output from the function."
   ]
  },
  {
   "cell_type": "markdown",
   "metadata": {},
   "source": [
    "References:\n",
    "\n",
    "[1A] https://numpy.org/doc/stable/reference/random/generator.html\n",
    "\n",
    "[2A] https://www.investopedia.com/terms/p/permutation.asp\n",
    "\n",
    "[3A] https://www.youtube.com/watch?v=zRgB3hOfEMU"
   ]
  },
  {
   "cell_type": "code",
   "execution_count": null,
   "metadata": {},
   "outputs": [],
   "source": []
  },
  {
   "cell_type": "markdown",
   "metadata": {},
   "source": [
    "#### Part 3 - Use and purpose of at least five 'Distrubutions'"
   ]
  },
  {
   "cell_type": "markdown",
   "metadata": {},
   "source": [
    "What Is a Probability Distribution?\n",
    "\n",
    ">A probability distribution is a statistical function that describes all the possible values and likelihoods that a random variable can take within a given range. This range will be bounded between the minimum and maximum possible values, but precisely where the possible value is likely to be plotted on the probability distribution depends on a number of factors. These factors include the distribution's mean (average), standard deviation, skewness, and kurtosis.[1]\n",
    "\n",
    "\n",
    "Probablity distribution data is very useful in generating data to test models that simulate real world data.\n",
    "\n",
    "\n",
    "Numpy random functions can generate a number of probability distributions,some of which are:\n",
    "\n",
    "- binomial\n",
    "- logistic\n",
    "- chisquare\n",
    "- normal\n",
    "- pareto\n",
    "- uniform\n",
    "\n"
   ]
  },
  {
   "cell_type": "markdown",
   "metadata": {},
   "source": []
  },
  {
   "cell_type": "markdown",
   "metadata": {},
   "source": [
    "*Normal Distribution*\n",
    "\n",
    "\n",
    "As per the numpy documentation:\n",
    "\n",
    "> `Generator.normal(loc=0.0, scale=1.0, size=None)`\n",
    ">\n",
    ">Draw random samples from a normal (Gaussian) distribution.\n",
    ">\n",
    ">The probability density function of the normal distribution, first derived by De Moivre and 200 years later by both Gauss and Laplace independently, is often called the bell curve because of its characteristic shape.\n",
    ">\n",
    ">The normal distributions occurs often in nature. For example, it describes the commonly occurring distribution of samples influenced by a large number of tiny, random disturbances, each with its own unique distribution.\n",
    "\n",
    "Normal distribution is the most common distribution of data that occurs naturally. It is the distribution of data which is symetrical around the mean i.e. most of the values will occur around the mean and lesser data points will occur to further away from the mean. The distibution is called the 'bell curve' because in an ideal 'Normal' data is distributed around the mean symetrically which causes it look like a bell. \n",
    "\n",
    "\n",
    "As per investopedia:\n",
    "\n",
    "\n",
    ">The standard normal distribution has two parameters: the mean and the standard deviation. For a normal distribution, 68% of the observations are within +/- one standard deviation of the mean, 95% are within +/- two standard deviations, and 99.7% are within +- three standard deviations.[2]\n",
    "\n",
    "\n",
    "The numpy normal function is has 3 main arguments, all of which are optional. The 'loc' argument is the 'mean' of and the 'scale' argument to the function is the 'standard deviation' of the distrubution. The size argument is the size of the array to be generated from the function. \n"
   ]
  },
  {
   "cell_type": "code",
   "execution_count": 5,
   "metadata": {},
   "outputs": [
    {
     "data": {
      "text/plain": [
       "array([ 0.25731778,  0.03000273,  0.02039072,  0.27637685, -0.12618851,\n",
       "        1.14883856,  1.00842299, -0.33248325, -1.37900425, -0.95475045])"
      ]
     },
     "execution_count": 5,
     "metadata": {},
     "output_type": "execute_result"
    }
   ],
   "source": [
    "import numpy as np\n",
    "\n",
    "np.random.default_rng().normal(size=10)"
   ]
  },
  {
   "cell_type": "code",
   "execution_count": 14,
   "metadata": {},
   "outputs": [
    {
     "data": {
      "text/plain": [
       "<matplotlib.axes._subplots.AxesSubplot at 0x2b0e167e820>"
      ]
     },
     "execution_count": 14,
     "metadata": {},
     "output_type": "execute_result"
    },
    {
     "data": {
      "image/png": "[encoded data removed]",
      "text/plain": [
       "<Figure size 432x288 with 1 Axes>"
      ]
     },
     "metadata": {},
     "output_type": "display_data"
    }
   ],
   "source": [
    "import matplotlib.pyplot as plt\n",
    "import seaborn as sns\n",
    "\n",
    "plt.style.use('ggplot')\n",
    "sns.distplot(np.random.default_rng().normal(loc=10, scale=3, size=1000), hist=False, color='g')"
   ]
  },
  {
   "cell_type": "markdown",
   "metadata": {},
   "source": [
    "Add example for np.normal and real life application."
   ]
  },
  {
   "cell_type": "markdown",
   "metadata": {},
   "source": [
    "Reference:\n",
    "\n",
    "[1] https://www.investopedia.com/terms/p/probabilitydistribution.asp\n",
    "\n",
    "[2] https://www.investopedia.com/terms/n/normaldistribution.asp"
   ]
  },
  {
   "cell_type": "code",
   "execution_count": null,
   "metadata": {},
   "outputs": [],
   "source": []
  },
  {
   "cell_type": "code",
   "execution_count": null,
   "metadata": {},
   "outputs": [],
   "source": []
  },
  {
   "cell_type": "code",
   "execution_count": null,
   "metadata": {},
   "outputs": [],
   "source": []
  }
 ],
 "metadata": {
  "kernelspec": {
   "display_name": "Python 3",
   "language": "python",
   "name": "python3"
  },
  "language_info": {
   "codemirror_mode": {
    "name": "ipython",
    "version": 3
   },
   "file_extension": ".py",
   "mimetype": "text/x-python",
   "name": "python",
   "nbconvert_exporter": "python",
   "pygments_lexer": "ipython3",
   "version": "3.8.3"
  }
 },
 "nbformat": 4,
 "nbformat_minor": 4
}
