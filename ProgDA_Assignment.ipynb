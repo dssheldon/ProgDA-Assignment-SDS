{
 "cells": [
  {
   "cell_type": "markdown",
   "metadata": {},
   "source": [
    "## Programming for Data Analysis - Assignment\n",
    "\n",
    "This notebook is for the assignment for ProgDA - Author: Sheldon D'Souza (email: g00387857@gmit.ie)"
   ]
  },
  {
   "cell_type": "markdown",
   "metadata": {},
   "source": [
    "#### Problem statement\n",
    "\n",
    "The assignment concerns the numpy.random package in Python. You are required to create a Jupyter notebook explaining the use of the package, including detailed explanations of at least five of the distributions provided for in the package. There are four distinct tasks to be carried out in your Jupyter notebook.\n",
    "\n",
    "1. Explain the overall purpose of the package.\n",
    "2. Explain the use of the “Simple random data” and “Permutations” functions.\n",
    "3. Explain the use and purpose of at least five “Distributions” functions.\n",
    "4. Explain the use of seeds in generating pseudorandom numbers.\n"
   ]
  },
  {
   "cell_type": "markdown",
   "metadata": {},
   "source": [
    "Project Plan:\n",
    "- Research the numpy.random package via official documentation and online tutorial videos.\n",
    "- Research the Simple random data and Permutatin functions via official documentation and online tutorial videos.\n",
    "- Choose 5 Distributions functions. Choose a dataset or generate data to show the differences between the distibution\n",
    "- Research seeds generation and given coded example\n",
    "- Research creative methods to \"explain\" the above narratively and/or visually  \n"
   ]
  },
  {
   "cell_type": "code",
   "execution_count": null,
   "metadata": {},
   "outputs": [],
   "source": []
  },
  {
   "cell_type": "markdown",
   "metadata": {},
   "source": []
  },
  {
   "cell_type": "markdown",
   "metadata": {},
   "source": [
    "<img src=https://live.staticflickr.com/748/20445410340_c1a0fe6a6a_b.jpg alt=\"Randomness\" width=\"500\"/>\n"
   ]
  },
  {
   "cell_type": "markdown",
   "metadata": {},
   "source": [
    "#### Part 1 - The purpose of the Numpy.random package\n",
    "\n",
    "##### The problem with generating randomness\n",
    "\n",
    "*What is a random number/sequence*\n",
    "\n",
    "A numeric sequence is said to be statistically random when it contains no recognizable patterns or regularities; sequences such as the results of an ideal dice roll or the digits of π exhibit statistical randomness.[1]\n",
    "\n",
    "*Why is it so difficult to generate a random number/sequence*\n",
    "\n",
    "Computers need instruction or programs to generate to do any task which includes generating random numbers. This means that an algrothim will also needed to generate a random number. The fact that there is an algrothim behind the generation means that it is not completely random and therefore these numbers are called pseudo random numbers (\"PRN\").[2]\n",
    "\n",
    "##### What does numpy.random do\n",
    "\n",
    "As per official documentation:\n",
    "\n",
    "> Numpy’s random number routines produce pseudo random numbers using combinations of a BitGenerator to create sequences and a Generator to use those sequences to sample from different statistical distributions [3]\n",
    "\n",
    "In other words any pseudo random numbers generator such as numpy.random will use an alogrothim to produce a stream of numbers which would exhibit statistical randomness. A 'seed' is often used as a 'starting point which is 'fed' into a software algrothim to produce a sequence of seemingly random numbers. The seed used can either be specified or can be automatically selected by e.g. the current date/time of the system running the generator etc.[4]   \n",
    "\n",
    "\n",
    "A very simple way of looking at this would be in the example below:"
   ]
  },
  {
   "cell_type": "code",
   "execution_count": 119,
   "metadata": {},
   "outputs": [],
   "source": [
    "def random_gen(how_many_nos=10, seed=400): #demo limitation - max number of items is 20 and seed value between 400 and 800\n",
    "    l = []\n",
    "    for n in range((how_many_nos)):\n",
    "        seed = (seed/7) + (n * 5) + ((2 * 3/50) % 4) + (22/7) # this is an example of a software algorithim number generator\n",
    "        y = str(seed) #convert number to string for slicing\n",
    "        z = y[4:8] #using slicing to further 'randomise numbers'\n",
    "        l.append(int(z)) #convert back to integer\n",
    "\n",
    "    print(l) #used instead of return() so that all values can be seen below"
   ]
  },
  {
   "cell_type": "code",
   "execution_count": 120,
   "metadata": {},
   "outputs": [
    {
     "name": "stdout",
     "output_type": "stream",
     "text": [
      "[6285, 5755, 4250, 6892, 127]\n",
      "[571, 4938, 9848, 1978]\n",
      "[2, 9428, 489, 641, 663, 666, 3523, 6789]\n",
      "[6285, 5755, 4250, 6892, 127]\n"
     ]
    }
   ],
   "source": [
    "random_gen(5,560)\n",
    "random_gen(4,442)\n",
    "random_gen(8,650)\n",
    "random_gen(5,560)"
   ]
  },
  {
   "cell_type": "markdown",
   "metadata": {},
   "source": [
    "The above function would be an example of an algorithim based generator which based on the seed would generate a list of seemingly random numbers. The key here is to generate a sufficiently long sequence of numbers is and based on a 'seed' number, the result will have the effect of being randomly generated. \n",
    "\n",
    "In the function above the user will include the number of random items to be generated along with a seed number (to reproduce results. Both inputs are then incuded in a software equation to generate a random number. In the above example I have converted the resultant number to a text string and then taken a slice of that string, to further randomise the number.\n",
    "\n",
    "As can be seen above, If the same seed is used, the same sequence of random numbers will be generated.\n",
    "\n",
    "The above is a very crude example of explaining how a generator like numpy generates pseudo random numbers"
   ]
  },
  {
   "cell_type": "markdown",
   "metadata": {},
   "source": [
    "References\n",
    "[1] - https://en.wikipedia.org/wiki/Statistical_randomness\n",
    "\n",
    "[2] - https://www.w3schools.com/python/numpy_random.asp\n",
    "\n",
    "[3] - https://numpy.org/doc/stable/reference/random/index.html?highlight=random#what-s-new-or-different\n",
    "\n",
    "[4] - https://realpython.com/python-random/\n",
    "\n",
    "\n",
    "Image Credits:\n",
    "[5] \"Binary code\" by Christiaan Colen is licensed under CC BY-SA 2.0"
   ]
  },
  {
   "cell_type": "markdown",
   "metadata": {},
   "source": [
    "#### Part 2 - Use of 'Simple Random Data' and 'Permutations' functions"
   ]
  },
  {
   "cell_type": "markdown",
   "metadata": {},
   "source": [
    "###### 'Simple Random Data' functions\n",
    "\n",
    "\n",
    "A 'Simple Random Data' function within numpy is, as the name suggests, a function to generate a 'simple' randomly generated value or array of values. Here simple means that each number within the range, has an equal chance of being selected/generated at every iteration of selection. A a real word example if we are rolling a die, each number from 1 to 6 has an equal chance of being selected on each roll.\n",
    "\n",
    "This is as opposed to data generated by a 'Distribution' which may have a certain 'weighting' towards certain values of range of values which may be expected to occur more frequently than others. An example of this is that if we are generating random values with regards to height of a population, we would expect the results to be skewed in way which would result in a greater number of values generated towards a 'mean' height.\n",
    "\n",
    "\n",
    "There are a number functions inbuilt within numpy to generate 'simple' random data:\n",
    "\n",
    "| Function | Description |\n",
    "| -------- | ----------- |\n",
    "| integers | Return random integers from low to high |\n",
    "| random | Return random floats in the half-open interval (0.0, 1.0) |\n",
    "| choice |Generates a random sample from a given 1-D array |\n",
    "| bytes | Return random bytes |\n"
   ]
  },
  {
   "cell_type": "code",
   "execution_count": null,
   "metadata": {},
   "outputs": [],
   "source": []
  },
  {
   "cell_type": "code",
   "execution_count": null,
   "metadata": {},
   "outputs": [],
   "source": []
  }
 ],
 "metadata": {
  "kernelspec": {
   "display_name": "Python 3",
   "language": "python",
   "name": "python3"
  },
  "language_info": {
   "codemirror_mode": {
    "name": "ipython",
    "version": 3
   },
   "file_extension": ".py",
   "mimetype": "text/x-python",
   "name": "python",
   "nbconvert_exporter": "python",
   "pygments_lexer": "ipython3",
   "version": "3.8.3"
  }
 },
 "nbformat": 4,
 "nbformat_minor": 4
}
