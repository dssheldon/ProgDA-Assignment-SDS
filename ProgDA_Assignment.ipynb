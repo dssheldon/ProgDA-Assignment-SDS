{
 "cells": [
  {
   "cell_type": "markdown",
   "metadata": {},
   "source": [
    "# Programming for Data Analysis - Assignment\n",
    "\n",
    "This notebook is for the assignment for ProgDA - Author: Sheldon D'Souza (email: g00387857@gmit.ie)\n",
    "\n",
    "***"
   ]
  },
  {
   "cell_type": "markdown",
   "metadata": {},
   "source": [
    "## Problem statement\n",
    "***\n",
    "\n",
    "The assignment concerns the numpy.random package in Python. You are required to create a Jupyter notebook explaining the use of the package, including detailed explanations of at least five of the distributions provided for in the package. There are four distinct tasks to be carried out in your Jupyter notebook.\n",
    "\n",
    "1. Explain the overall purpose of the package.\n",
    "2. Explain the use of the “Simple random data” and “Permutations” functions.\n",
    "3. Explain the use and purpose of at least five “Distributions” functions.\n",
    "4. Explain the use of seeds in generating pseudorandom numbers.\n"
   ]
  },
  {
   "cell_type": "markdown",
   "metadata": {},
   "source": [
    "## Project Plan:\n",
    "***\n",
    "- Research the numpy.random package via official documentation and online tutorial videos.\n",
    "- Research the Simple random data and Permutation functions via official documentation and online tutorial videos.\n",
    "- Choose 5-6 Distributions functions. Choose a dataset or generate data to show the differences between the distribution\n",
    "- Research seeds generation and give coded example\n",
    "- Research creative methods to \"explain\" the above narratively and/or visually\n",
    "- Document the use of the distributions\n",
    "- Show a comparison of the various distributions"
   ]
  },
  {
   "cell_type": "markdown",
   "metadata": {},
   "source": [
    "## Import packages\n",
    "***"
   ]
  },
  {
   "cell_type": "code",
   "execution_count": 1,
   "metadata": {},
   "outputs": [],
   "source": [
    "# import all packages required for the notebook. This cell needs to be run first before running any part of the workbook\n",
    "\n",
    "import numpy as np\n",
    "import matplotlib.pyplot as plt\n",
    "import seaborn as sns\n",
    "from IPython.display import Audio,Image, YouTubeVideo\n",
    "\n",
    "plt.style.use('ggplot')\n"
   ]
  },
  {
   "cell_type": "markdown",
   "metadata": {},
   "source": [
    "<img src=https://live.staticflickr.com/748/20445410340_c1a0fe6a6a_b.jpg alt=\"Randomness\" width=\"500\"/>\n",
    "\n",
    "\n",
    "*Image Credit: \"Binary code\" by Christiaan Colen is licensed under CC BY-SA 2.0*\n"
   ]
  },
  {
   "cell_type": "markdown",
   "metadata": {},
   "source": [
    "## Note - Important changes to numpy.random\n",
    "***\n",
    "\n",
    "There have been some changes to the numpy random module since version 1.17.0. These changes are summarised on the Numpy website page [1A]\n",
    "\n",
    "A very brief overview of the changes are as follows:\n",
    "\n",
    "Numpy 1.17.0 introduces a new random number generator system. While the details of this (Bitgenerators and Generators) can be quite technical, simply put the older system made use of the global random generator object which was shared across the application. The newer system creates a random generator object with default_rng() and uses that object to generate random numbers without relying on the global state. The older system (RandomState) is not obsolete, rather, in most cases, it should be avoided whenever reproducible \"randomness\" is required.\n",
    "\n",
    "The older system used the Mersenne Twister BitGenerator whereas the new system uses the the PCG64 BitGenerator. As per numpy.org official documentation: [1A]\n",
    "\n",
    ">Call default_rng to get a new instance of a Generator, then call its methods to obtain samples from different distributions. By default, Generator uses bits provided by PCG64 which has better statistical properties than the legacy MT19937 used in RandomState."
   ]
  },
  {
   "cell_type": "markdown",
   "metadata": {},
   "source": [
    "##### References:\n",
    "\n",
    "[1A] - Numpy Random Quick Start Page -  https://numpy.org/doc/stable/reference/random/index.html?highlight=random#what-s-new-or-different\n",
    "\n",
    "[2A] - Numpy Random Official documentation -  https://numpy.org/devdocs/reference/random/index.html\n"
   ]
  },
  {
   "cell_type": "markdown",
   "metadata": {},
   "source": [
    "## Part 1 - The purpose of the Numpy.random package\n",
    "\n",
    "***\n",
    "\n",
    "### Randomness\n",
    "\n",
    "#### *What is a random number/sequence*\n",
    "\n",
    "A numeric sequence is said to be statistically random when it contains no recognizable patterns or regularities; sequences such as the results of an ideal dice roll or the digits of π exhibit statistical randomness. [1B]\n",
    "\n",
    "This can be an issue as it can be very difficult to define what 'randomness' really means. Some  may argue that randomness is what occurs in nature although a lot of natural processes can be deterministic. The evolution of various pseudo random number generators over the year, is indicative of the fact that as our understanding of a phenomenon increases (both natural and computed), our *perception* that it is random decreases.\n",
    "\n",
    "In fact it was not until 2007 when a software library, TestU01 offered a collection of utilities for the empirical randomness testing of random number generators (RNGs). The library was first introduced in 2007 by Pierre L’Ecuyer and Richard Simard of the Université de Montréal. TESTU01 offers several batteries of tests including \"Small Crush\" (which consists of 10 tests), \"Crush\" (96 tests), and \"Big Crush\" (160 tests). [6B]\n",
    "\n",
    "\n",
    "#### *Why do we need to generate random numbers:*\n",
    "\n",
    "Random numbers have many purposes. The main uses of random numbers are (1) to cryptographically secure data and (2) generate data for the purposes of data analytics and machine learning (3) simulate data to test models (4) In casinos and lotto games (5) In computer games\n",
    "\n",
    "\n",
    "#### *What are the types of randomness:*\n",
    "\n",
    "There are two broad types of randomness true randomness and statistical randomness (or pseudo randomness):\n",
    "\n",
    "True randomness is one which arises out of natural phenomenon such as rolling a dice, quantum level events, rate of uranium decay, cosmic radiation etc. True randomness is non-deterministic. \n",
    "\n",
    "Pseudo randomness is generated by the use of an algorithm and is deterministic in nature. However, if a sufficiently complicated methodology used to generate the pseudo random data, it will be statistically equivalent to true randomness. The main reason for this is that both will require true random sequence and a complex pseudo random sequence will take more time than needed in order to render the sequence ineffective (i.e for someone to spot the pattern in the sequence)\n",
    "\n",
    "\n",
    "#### *Why is it so difficult to generate a random number/sequence*\n",
    "\n",
    "Computers need instruction or programs to generate to do any task which includes generating random numbers. In other words computers are deterministic. This means that an algorithm will also needed to generate a random number. The fact that there is an algorithm behind the generation means that it is not completely random and therefore these numbers are called pseudo random numbers (\"PRN\").[2B]\n",
    "\n",
    "\n",
    "#### *What are some examples of PRNG:*\n",
    "\n",
    "Over the years there have been many algorithms, which are called Pseudo-Random Number Generators (PRNG), in order to generate random numbers, such as the Least Squares Method (developed by von Numen), Linear Congruential Generator, Mersenne Twister, PCG65 etc.\n",
    "\n",
    "\n",
    "\n",
    "\n",
    "### What does numpy.random do\n",
    "\n",
    "\n",
    "#### *what is numpy random:*\n",
    "\n",
    "As per official documentation:\n",
    "\n",
    "> Numpy’s random number routines produce pseudo random numbers using combinations of a BitGenerator to create sequences and a Generator to use those sequences to sample from different statistical distributions [3B]\n",
    "\n",
    "In other words any pseudo random numbers generator such as numpy.random will use an alogrothim to produce a stream of numbers which would exhibit statistical randomness.  \n",
    "\n",
    "\n",
    "*what does numpy random comprise of:*\n",
    "Numpy random comprises of various functions that generate random numbers. The can include random integers (discrete random numbers), random continuous numbers, choice functions, permutation functions and functions which generate data as per various statistical distributions.\n",
    "\n",
    "#### *why numpy random over other random generators*\n",
    "\n",
    "The main advantage of the numpy generator over say the standard random generator in python, is that the output from numpy random is  in the form of a numpy array which can easily be manipulated and is easy to work with from a numerical point of view.\n",
    "\n",
    "\n",
    "\n",
    "#### *what is the use of numpy random:*\n",
    "\n",
    "As mentioned in the sections above, generating random numbers has a number of real world uses. The numpy random module\n",
    "\n",
    "1. Data Analytics and Machine Learnings\n",
    "\n",
    "One of the aims of data analysis and machine learning is to find a patterns within data and generate a model to convert that data into meaningful information or use predictive techniques to generate probable future outcomes. These models will use real world data in order to achieve their objectives. However, before these are deployed in the real world and indeed during the creation stage of the analysis and  model, the developer will need randomly generated data to develop and test the model under various scenarios. In order to do this the developer will need a vast amount of data which may range from simple random to statistically distributed data. The numpy random module is able to quickly generate random number to test the developers hypothesis of the data model and to stress the model under varied scenarios. Similarly in machine learning, the developer of the machine learning algorithm will require large quantities of data which can be easily produced by a PRNG like the numpy random module.\n",
    "\n",
    "2. Cryptography\n",
    "\n",
    "While random numbers can useful to generate cryptographically keys which can be used to secure data, the official numpy random documentation clearly states that the numpy random generated numbers should not be used for cryptography and instead the 'secrets' module should be used for cryptography purposes.\n",
    "\n",
    "3. Games of Chance\n",
    "\n",
    "Numpy random can be used to simulate the flipping of a coin or the rolling of a dice. These can in turn be used when writing games of chance such as a virtual casino or as part of a lotto number generating tool.\n",
    "\n",
    "4. Computer Games\n",
    "\n",
    "Numpy can be used to generate random numbers that for example specify the order of 'enemies' in a game or the number of 'items' available to the player etc.\n",
    "\n",
    "5. Sampling\n",
    "\n",
    "Numpy can be used to choose a statistical sample of data to be used for further analysis or testing. For example in the accountancy and audit profession a random number generator is used to select a sample of invoices to be tested by the auditor in order to form an opinion on the entire population of data.\n",
    "\n",
    "\n",
    "### *what is a seed*\n",
    "\n",
    "A 'seed' is often used as a 'starting point which is 'fed' into a software algorithm to produce a sequence of seemingly random numbers. The seed used can either be specified or can be automatically selected by e.g. the current date/time of the system running the generator etc.[4B] \n",
    "\n",
    "A very simple way of looking at this would be in the example below:"
   ]
  },
  {
   "cell_type": "code",
   "execution_count": 2,
   "metadata": {},
   "outputs": [],
   "source": [
    "def random_gen(how_many_nos=10, seed=400): #demo limitation - max number of items is 20 and seed value between 400 and 800\n",
    "    l = []\n",
    "    for n in range((how_many_nos)):\n",
    "        seed = (seed/7) + (n * 5) + ((2 * 3/50) % 4) + (22/7) # this is an example of a software algorithm number generator\n",
    "        y = str(seed) #convert number to string for slicing\n",
    "        z = y[4:8] #using slicing to further 'randomise numbers'\n",
    "        l.append(int(z)) #convert back to integer\n",
    "\n",
    "    print(l) #used instead of return() so that all values can be seen below"
   ]
  },
  {
   "cell_type": "code",
   "execution_count": 3,
   "metadata": {},
   "outputs": [
    {
     "name": "stdout",
     "output_type": "stream",
     "text": [
      "[6285, 5755, 4250, 6892, 127]\n",
      "[571, 4938, 9848, 1978]\n",
      "[2, 9428, 489, 641, 663, 666, 3523, 6789]\n",
      "[6285, 5755, 4250, 6892, 127]\n"
     ]
    }
   ],
   "source": [
    "random_gen(5,560)\n",
    "random_gen(4,442)\n",
    "random_gen(8,650)\n",
    "random_gen(5,560)"
   ]
  },
  {
   "cell_type": "markdown",
   "metadata": {},
   "source": [
    "The above function would be an example of an algorithm based generator which based on the seed would generate a list of seemingly random numbers. The key here is to generate a sufficiently long sequence of numbers is and based on a 'seed' number, the result will have the effect of being randomly generated. \n",
    "\n",
    "In the function above the user will include the number of random items to be generated along with a seed number (to reproduce results. Both inputs are then included in a software equation to generate a random number. In the above example I have converted the resultant number to a text string and then taken a slice of that string, to further randomise the number.\n",
    "\n",
    "As can be seen above, If the same seed is used, the same sequence of random numbers will be generated.\n",
    "\n",
    "\n",
    "**Please note:**\n",
    "\n",
    "**The above is a very crude example of explaining how a generator like numpy generates pseudo random numbers. I have explained seeds in a lot more detail in Section 4 below.**"
   ]
  },
  {
   "cell_type": "markdown",
   "metadata": {},
   "source": [
    "### *Generator and Bitgenerators in numpy random*:\n",
    "\n",
    "Numpy uses both Generators and Bitgenerators within the module. Simply put the Bitgenerator is the default/standard random generator for the module such as Mersenne Twister or PCG (see section 4 for more detail on these). The bitgenerator does the heavy lifting of applying the random algorithm, generating state etc.\n",
    "\n",
    "The Generator is responsible for applying the specified 'distribution' to the output from the generator. It is also responsible for the arrays output by the particular function of the numpy module.\n",
    "\n",
    "\n",
    "> The function numpy.random.default_rng will instantiate a Generator with numpy’s default BitGenerator. [7B] [5B]"
   ]
  },
  {
   "cell_type": "markdown",
   "metadata": {},
   "source": [
    "##### References:\n",
    "\n",
    "[1B] - Wikipedia statistical randomness page -   https://en.wikipedia.org/wiki/Statistical_randomness\n",
    "\n",
    "[2B] - W3Schools Numpy Random module webpage - https://www.w3schools.com/python/numpy_random.asp\n",
    "\n",
    "[3B] - Numpy Random Quick Start Page -  https://numpy.org/doc/stable/reference/random/index.html?highlight=random#what-s-new-or-different\n",
    "\n",
    "[4B] - Real Python Random Page - https://realpython.com/python-random/\n",
    "\n",
    "[5B] - Research on how to initiate the default_rng - https://stackoverflow.com/questions/59728162/how-to-use-numpy-random-to-generate-random-numbers-from-a-certain-distribution\n",
    "\n",
    "[6B] - Wikipedia TestU01 page - https://en.wikipedia.org/wiki/TestU01\n",
    "\n",
    "[7B] - Numpy Random Official documentation - https://numpy.org/doc/stable/reference/random/generator.html#numpy.random.Generator\n"
   ]
  },
  {
   "cell_type": "markdown",
   "metadata": {},
   "source": [
    "## Part 2 - Use of 'Simple Random Data' and 'Permutations' functions\n",
    "***"
   ]
  },
  {
   "cell_type": "markdown",
   "metadata": {},
   "source": [
    "### 'Simple Random Data' functions\n",
    "\n",
    "\n",
    "A 'Simple Random Data' function within numpy is, as the name suggests, a function to generate a 'simple' randomly generated value or array of values. Here simple means that each number within the range, has an equal chance of being selected/generated at every iteration of selection. A a real word example if we are rolling a die, each number from 1 to 6 has an equal chance of being selected on each roll.\n",
    "\n",
    "This is as opposed to data generated by a 'Distribution' which may have a certain 'weighting' towards certain values of range of values which may be expected to occur more frequently than others. An example of this is that if we are generating random values with regards to height of a population, we would expect the results to be skewed in way which would result in a greater number of values generated towards a 'mean' height.\n",
    "\n",
    "\n",
    "There are a number functions inbuilt within numpy to generate 'simple' random data:\n",
    "\n",
    "| Function | Description |\n",
    "| :-------- | :----------- |\n",
    "| integers | Return random integers from low to high |\n",
    "| random | Return random floats in the half-open interval (0.0, 1.0) |\n",
    "| choice |Generates a random sample from a given 1-D array |\n",
    "| bytes | Return random bytes |\n"
   ]
  },
  {
   "cell_type": "markdown",
   "metadata": {},
   "source": [
    "#### INTEGERS FUNCTION\n",
    "\n",
    ">Return random integers from low (inclusive) to high (exclusive), or if endpoint=True, low (inclusive) to high (inclusive). Replaces RandomState.randint (with endpoint=False) and RandomState.random_integers (with endpoint=True)\n",
    ">\n",
    ">Return random integers from the “discrete uniform” distribution of the specified dtype. If high is None (the default), then results are from 0 to low."
   ]
  },
  {
   "cell_type": "markdown",
   "metadata": {},
   "source": [
    "The 'Integer' function returns a random integer between a specified range of two numbers (low and high). By default the low value is included in the selection range and the high number is excluded from the selection range. See below: "
   ]
  },
  {
   "cell_type": "code",
   "execution_count": 4,
   "metadata": {},
   "outputs": [
    {
     "data": {
      "text/plain": [
       "5"
      ]
     },
     "execution_count": 4,
     "metadata": {},
     "output_type": "execute_result"
    }
   ],
   "source": [
    "np.random.default_rng().integers(2,10) #2 is the low and 10 is the high value"
   ]
  },
  {
   "cell_type": "markdown",
   "metadata": {},
   "source": [
    "If the argument endpoint=True is passed than the high and the low values are included in the selection range of the function. As below:"
   ]
  },
  {
   "cell_type": "code",
   "execution_count": 5,
   "metadata": {},
   "outputs": [
    {
     "data": {
      "text/plain": [
       "7"
      ]
     },
     "execution_count": 5,
     "metadata": {},
     "output_type": "execute_result"
    }
   ],
   "source": [
    "np.random.default_rng().integers(2,10, endpoint=True) #2 is the low and 10 is the high value; endpoint=True"
   ]
  },
  {
   "cell_type": "markdown",
   "metadata": {},
   "source": [
    "If the size argument is passed to the function the function will return an array of the dimensions specified in the size argument. As below:"
   ]
  },
  {
   "cell_type": "code",
   "execution_count": 6,
   "metadata": {},
   "outputs": [
    {
     "name": "stdout",
     "output_type": "stream",
     "text": [
      "This is a example of a one dimentional array of randomly generated numbers within a specifed range:\n",
      "[5 7]\n",
      "\n",
      "This is a example of a two dimentional array of randomly generated numbers within a specifed range:\n",
      "[[6 4 7 5]\n",
      " [9 3 9 3]]\n"
     ]
    }
   ],
   "source": [
    "print('This is a example of a one dimentional array of randomly generated numbers within a specifed range:')\n",
    "x = np.random.default_rng().integers(2,10, size=(2))\n",
    "print(x)\n",
    "print()\n",
    "print('This is a example of a two dimentional array of randomly generated numbers within a specifed range:')\n",
    "y = np.random.default_rng().integers(2,10, size=(2,4))\n",
    "print(y)"
   ]
  },
  {
   "cell_type": "markdown",
   "metadata": {},
   "source": [
    "##### Example - Wheel of fortune:\n",
    "\n",
    "Contestants spin a wheel with Eight Quadrants. Each quadrant has a varying monetary prize attached to it which can be signified by the list below:\n",
    "\n",
    "- Q1 - EUR 20\n",
    "- Q2 - EUR 10,000\n",
    "- Q3 - EUR 10\n",
    "- Q4 - EUR 100\n",
    "- Q5 - EUR 30\n",
    "- Q6 - EUR 40\n",
    "- Q7 - EUR 50\n",
    "- Q8 - EUR 100"
   ]
  },
  {
   "cell_type": "code",
   "execution_count": 38,
   "metadata": {},
   "outputs": [
    {
     "name": "stdout",
     "output_type": "stream",
     "text": [
      "You have won: EUR 20\n",
      "You have won: EUR 100\n",
      "You have won: EUR 100\n",
      "You have won: EUR 10\n",
      "You have won: EUR 40\n"
     ]
    }
   ],
   "source": [
    "prize_list = ['EUR 20', 'EUR 10,000', 'EUR 10', 'EUR 100', 'EUR 30', 'EUR 40', 'EUR 50', 'EUR 100']\n",
    "\n",
    "\n",
    "for n in range(5):\n",
    "    x = np.random.default_rng().integers(1, 9, size=1)\n",
    "    y = x[0] - 1\n",
    "    print('You have won:', prize_list[y])\n"
   ]
  },
  {
   "cell_type": "markdown",
   "metadata": {},
   "source": [
    "In the 5 spins above the grand prize of EUR 10,000 does not come up even once (it will in some runs). However since the integers distribution is uniform this means that as the number of spins increase the probability that the grand prize will be selected will be the same as all other quadrants. This can be seem in the distribution below."
   ]
  },
  {
   "cell_type": "code",
   "execution_count": 8,
   "metadata": {
    "scrolled": true
   },
   "outputs": [
    {
     "data": {
      "text/plain": [
       "(array([1216., 1275., 1233., 1239., 1256., 1226., 1283., 1272.]),\n",
       " array([1.   , 1.875, 2.75 , 3.625, 4.5  , 5.375, 6.25 , 7.125, 8.   ]),\n",
       " <a list of 8 Patch objects>)"
      ]
     },
     "execution_count": 8,
     "metadata": {},
     "output_type": "execute_result"
    },
    {
     "data": {
      "image/png": "[encoded data removed]",
      "text/plain": [
       "<Figure size 432x288 with 1 Axes>"
      ]
     },
     "metadata": {},
     "output_type": "display_data"
    }
   ],
   "source": [
    "x = np.random.default_rng().integers(1,9, size=10000)\n",
    "plt.hist(x, width=0.8, bins=8, color='orange')"
   ]
  },
  {
   "cell_type": "markdown",
   "metadata": {},
   "source": [
    "As seen above over 10,000 spins each quadrant of the wheel is selected equally, which shows that the integers function of the numpy random module has a uniform distribution.  "
   ]
  },
  {
   "cell_type": "markdown",
   "metadata": {},
   "source": [
    "##### *Use of the Integer function*\n",
    "\n",
    "The integer function is commonly used in data analytics when discrete numbers are needed to be generated such as generating a data sets simulating the number of employees, quantities of products etc. or anything which can be expressed in discrete whole numbers only. "
   ]
  },
  {
   "cell_type": "markdown",
   "metadata": {},
   "source": [
    "#### RANDOM FUNCTION\n",
    "\n",
    ">Return random floats in the half-open interval (0.0, 1.0).\n",
    ">\n",
    ">Results are from the “continuous uniform” distribution over the stated interval. To sample Unif(a, b), b > a multiply the output of random by (b-a) and add a:\n",
    ">\n",
    "> `(b - a) * random() + a`\n"
   ]
  },
  {
   "cell_type": "markdown",
   "metadata": {},
   "source": [
    "The random function returns a random number between 0 and 1. Where 0 is included in the selection and 1 is excluded in the selection. The result of the function are 'continuous' random floating point numbers.  See below:  "
   ]
  },
  {
   "cell_type": "code",
   "execution_count": 9,
   "metadata": {
    "scrolled": true
   },
   "outputs": [
    {
     "data": {
      "text/plain": [
       "0.7087291575186063"
      ]
     },
     "execution_count": 9,
     "metadata": {},
     "output_type": "execute_result"
    }
   ],
   "source": [
    "np.random.default_rng().random()"
   ]
  },
  {
   "cell_type": "markdown",
   "metadata": {},
   "source": [
    "If the size argument is passed to the function, the function will return an array of the dimensions, specifed in the size argument. As below:"
   ]
  },
  {
   "cell_type": "code",
   "execution_count": 10,
   "metadata": {},
   "outputs": [
    {
     "data": {
      "text/plain": [
       "array([[0.06243062, 0.99713446, 0.36544025],\n",
       "       [0.35994499, 0.60556736, 0.85732532]])"
      ]
     },
     "execution_count": 10,
     "metadata": {},
     "output_type": "execute_result"
    }
   ],
   "source": [
    "np.random.default_rng().random(size=(2,3))"
   ]
  },
  {
   "cell_type": "markdown",
   "metadata": {},
   "source": [
    "If the user wants to sample between a range of numbers a & b, where a is the 'lower' value and b is the 'higher' value, then this can be done by using a 'formula' within the function:\n",
    "\n",
    "`(b - a) * random() + a`\n",
    "\n",
    "So in other words if we want to sample from values of 2 to 10 using the 'random' function the way to do this would be as follows:"
   ]
  },
  {
   "cell_type": "code",
   "execution_count": 11,
   "metadata": {},
   "outputs": [
    {
     "name": "stdout",
     "output_type": "stream",
     "text": [
      "The sample selected between the range 2 and 10, using the random function\n"
     ]
    },
    {
     "data": {
      "text/plain": [
       "7.184715358549688"
      ]
     },
     "execution_count": 11,
     "metadata": {},
     "output_type": "execute_result"
    }
   ],
   "source": [
    "print('The sample selected between the range 2 and 10, using the random function')\n",
    "\n",
    "(10 - 2) * np.random.default_rng().random() + 2"
   ]
  },
  {
   "cell_type": "markdown",
   "metadata": {},
   "source": [
    "Graphically the random function can be expressed as follows:"
   ]
  },
  {
   "cell_type": "code",
   "execution_count": 12,
   "metadata": {
    "scrolled": true
   },
   "outputs": [
    {
     "data": {
      "image/png": "[encoded data removed]",
      "text/plain": [
       "<Figure size 432x288 with 1 Axes>"
      ]
     },
     "metadata": {},
     "output_type": "display_data"
    }
   ],
   "source": [
    "x = np.random.default_rng().random(size=10000)\n",
    "\n",
    "plt.hist(x, color='violet', edgecolor='black')\n",
    "plt.show()"
   ]
  },
  {
   "cell_type": "markdown",
   "metadata": {},
   "source": [
    "As seem from above the random function also has a uniform distribution, as values within a 'bin' have an equal chance of being selected."
   ]
  },
  {
   "cell_type": "markdown",
   "metadata": {},
   "source": [
    "##### *Use of the Random function*\n",
    "\n",
    "The random function can be used to generate a datasets of continuous numbers such as datasets to simulate most measurements  e.g. lengths, widths, heights, distances, weights, time, age etc."
   ]
  },
  {
   "cell_type": "markdown",
   "metadata": {},
   "source": [
    "#### CHOICE FUNCTION"
   ]
  },
  {
   "cell_type": "markdown",
   "metadata": {},
   "source": [
    "> `Generator.choice(a, size=None, replace=True, p=None, axis=0, shuffle=True)`\n",
    ">\n",
    ">Generates a random sample from a given 1-D array"
   ]
  },
  {
   "cell_type": "markdown",
   "metadata": {},
   "source": [
    "The `choice` function takes in as input an array and returns random value(s) from the input. The input is generally in the form of an array, however the choice function is flexible enough to take in a various types of number sequences as inputs including lists, tuples etc. The output is an array of  numeric values or a single value (if a 1D array is passes as an input). Simply put the function makes a random choice(s) from a given group/set/array of numbers provided and returns the chosen values.\n",
    "\n",
    "The input can also be a multidimensional array, however this is not covered within the explanation here.\n",
    "\n",
    "As can be see above the function has only one required argument 'a' which is the 'input'."
   ]
  },
  {
   "cell_type": "code",
   "execution_count": 13,
   "metadata": {},
   "outputs": [
    {
     "name": "stdout",
     "output_type": "stream",
     "text": [
      "A single number as an input works like the range() function where numbers are generated upto but excluding the input digit\n",
      "2\n",
      "\n",
      "This is an example of an array as an input:\n",
      "12\n"
     ]
    }
   ],
   "source": [
    "x = np.random.default_rng().choice(15)\n",
    "print('A single number as an input works like the range() function where numbers are generated upto but excluding the input digit')\n",
    "print(x)\n",
    "\n",
    "print()\n",
    "y = np.random.default_rng().choice(([ 12,  18,  35]))\n",
    "\n",
    "print('This is an example of an array as an input:')\n",
    "print(y)"
   ]
  },
  {
   "cell_type": "markdown",
   "metadata": {},
   "source": [
    "The size argument will allow the user of the function to specify the size (or dimensions) of the output array, constructed by randomly choosing from the input."
   ]
  },
  {
   "cell_type": "code",
   "execution_count": 14,
   "metadata": {},
   "outputs": [
    {
     "data": {
      "text/plain": [
       "array([[5, 7, 1]], dtype=int64)"
      ]
     },
     "execution_count": 14,
     "metadata": {},
     "output_type": "execute_result"
    }
   ],
   "source": [
    "np.random.default_rng().choice(15, size=(1,3))"
   ]
  },
  {
   "cell_type": "markdown",
   "metadata": {},
   "source": [
    "The replace argument can be set to True or False. This argument will determine whether the value the first value selected will be 'replaced' or included back into the population when the second choice is made. In other words the replace function will determine whether the number sampled will be removed from the population when the second (and subsequent) choices. When replace=False, each value from the population will only have a chance of being selected be selected once."
   ]
  },
  {
   "cell_type": "code",
   "execution_count": 15,
   "metadata": {},
   "outputs": [
    {
     "name": "stdout",
     "output_type": "stream",
     "text": [
      "Each value will be selected only once:\n",
      "[[0 1 2 3 4 5 6 7]]\n",
      "\n",
      "Each value can be selected multiple times:\n",
      "[[0 1 2 3 3 4 4 4]]\n"
     ]
    }
   ],
   "source": [
    "x = np.random.default_rng().choice(8, size=(1,8), replace=False)\n",
    "print('Each value will be selected only once:')\n",
    "print(np.sort(x)) #sorted for ease\n",
    "print()\n",
    "\n",
    "y = np.random.default_rng().choice(8, size=(1,8), replace=True)\n",
    "print('Each value can be selected multiple times:')\n",
    "print(np.sort(y))"
   ]
  },
  {
   "cell_type": "markdown",
   "metadata": {},
   "source": [
    "The 'p' argument will specify the probability of each item of input being selected. If no value is given to p, the choice function gives each item an equal chance (or probability of being selected)"
   ]
  },
  {
   "cell_type": "code",
   "execution_count": 16,
   "metadata": {
    "scrolled": true
   },
   "outputs": [
    {
     "name": "stdout",
     "output_type": "stream",
     "text": [
      "The results will be skewed towards the items with higher probability:\n",
      "[[5 5 5 6 6 6 6 6]]\n"
     ]
    }
   ],
   "source": [
    "x = np.random.default_rng().choice((1,2,3,4,5,6), size=(1,8), replace=True, p=(0.01,0.01,0.01,0.01,0.48,0.48))\n",
    "print('The results will be skewed towards the items with higher probability:')\n",
    "print(np.sort(x))"
   ]
  },
  {
   "cell_type": "markdown",
   "metadata": {},
   "source": [
    "##### *Use of the choice function*\n",
    "\n",
    "The choice function is very useful in programs where you want to specify  parameter to a variable or output  but you want to limit the options to a defined and predetermined set. For example, if you are creating a number of plots and you want the each plot to be coloured by either red, blue or green at random, you can use the choice function to select from a tuple or list using the random.choice function."
   ]
  },
  {
   "cell_type": "markdown",
   "metadata": {},
   "source": [
    "#### BYTES FUNCTION"
   ]
  },
  {
   "cell_type": "markdown",
   "metadata": {},
   "source": [
    "> `Generator.bytes(length)`\n",
    ">\n",
    ">Return random bytes."
   ]
  },
  {
   "cell_type": "markdown",
   "metadata": {},
   "source": [
    "The bytes function returns random bytes of the length specified within the function. Generating random bytes may be used for the purpose of testing, however as specified within the documentation, numpy random numbers are not cryptographically secure and therefore should not be used for this purpose."
   ]
  },
  {
   "cell_type": "code",
   "execution_count": 17,
   "metadata": {},
   "outputs": [
    {
     "name": "stdout",
     "output_type": "stream",
     "text": [
      "b'\\xc1\\xf0\\xd2tf\\t\\x15t\\xb6\\x80'\n"
     ]
    }
   ],
   "source": [
    "x = np.random.default_rng().bytes(10)\n",
    "print(x)"
   ]
  },
  {
   "cell_type": "markdown",
   "metadata": {},
   "source": [
    "As explained in the Real Python 'Generating Random Data in Python (Guide)', these random bytes are displayed as a mix between hexadecimal characters and literal printable characters:\n",
    "\n",
    ">These backslashes are escape sequences, and \\xhh represents the character with hex value hh. Some of the elements of bites are displayed literally (printable characters such as letters, numbers, and punctuation). Most are expressed with escapes. [1C]\n",
    "\n",
    "\n",
    "The bytes characters generated can be converted into decimal, hexadecimal or binary characters as shown below:"
   ]
  },
  {
   "cell_type": "code",
   "execution_count": 18,
   "metadata": {},
   "outputs": [
    {
     "name": "stdout",
     "output_type": "stream",
     "text": [
      "As shown above this is the bytes string generated by the function:\n",
      "b'W\\x9f\\x9a\\xa3\\x0e\\xe8E!\\x18\\x9e'\n",
      "\n",
      "This is the hexadecimal equivalent of the bytes generated:\n",
      "579f9aa30ee84521189e\n",
      "\n",
      "This is a  list of the decimal value of each byte generated:\n",
      "[87, 159, 154, 163, 14, 232, 69, 33, 24, 158]\n",
      "\n",
      "This is a list of the hexadecimal value of each byte generated:\n",
      "['0x57', '0x9f', '0x9a', '0xa3', '0xe', '0xe8', '0x45', '0x21', '0x18', '0x9e']\n",
      "\n",
      "This is a list of the binary value of each byte generated:\n",
      "['0b1010111', '0b10011111', '0b10011010', '0b10100011', '0b1110', '0b11101000', '0b1000101', '0b100001', '0b11000', '0b10011110']\n"
     ]
    }
   ],
   "source": [
    "print('As shown above this is the bytes string generated by the function:')\n",
    "x = np.random.default_rng().bytes(10)\n",
    "print(x)\n",
    "print()\n",
    "\n",
    "print('This is the hexadecimal equivalent of the bytes generated:')\n",
    "print(x.hex())\n",
    "print()\n",
    "\n",
    "\n",
    "print('This is a  list of the decimal value of each byte generated:')\n",
    "y = list(x)\n",
    "print(y)\n",
    "print()\n",
    "\n",
    "print('This is a list of the hexadecimal value of each byte generated:')\n",
    "print([hex(a) for a in y])\n",
    "print()\n",
    "\n",
    "print('This is a list of the binary value of each byte generated:')\n",
    "print([bin(a) for a in y])\n"
   ]
  },
  {
   "cell_type": "markdown",
   "metadata": {},
   "source": [
    "##### References:\n",
    "\n",
    "[ALL] - Official documentation for Numpy Random - https://numpy.org/doc/stable/reference/random/generator.html\n",
    "\n",
    "[1C] - Real Python Random -  https://realpython.com/python-random/"
   ]
  },
  {
   "cell_type": "markdown",
   "metadata": {},
   "source": [
    "### 'Permutations' functions"
   ]
  },
  {
   "cell_type": "markdown",
   "metadata": {},
   "source": [
    "The Permutations functions within numpy allow a user to re-arrange data in a specific manner. There are two permutations functions:\n",
    "\n",
    "* shuffle\n",
    "* permutation\n"
   ]
  },
  {
   "cell_type": "markdown",
   "metadata": {},
   "source": [
    "#### SHUFFLE FUNCTION"
   ]
  },
  {
   "cell_type": "markdown",
   "metadata": {},
   "source": [
    "As per the official documentation, the shuffle function works as follow:\n",
    "\n",
    ">`Generator.shuffle(x, axis=0)`\n",
    ">\n",
    ">Modify a sequence in-place by shuffling its contents.\n",
    ">\n",
    ">The order of sub-arrays is changed but their contents remains the same.\n",
    "\n",
    "In other words the shuffle function will change the order (at random) of the contents of an array. This can be useful where we need use the same data but with different order or sequence. The function shuffles the array 'in place' which mean that it changes the original input passed to the function.\n",
    "\n",
    "See below examples of the shuffle function:"
   ]
  },
  {
   "cell_type": "code",
   "execution_count": 19,
   "metadata": {},
   "outputs": [
    {
     "name": "stdout",
     "output_type": "stream",
     "text": [
      "Shuffling lists using the shuffle function:\n",
      "\n",
      "This is the original list:\n",
      "[2, 3, 6, 7, 8, 9, 15, 10]\n",
      "This is the shuffled list:\n",
      "[9, 6, 2, 10, 15, 3, 8, 7]\n",
      "\n",
      "The shuffle function can be used on a list of strings as well:\n",
      "This is the original list:\n",
      "['spam', 'eggs', 'bacon', 'cheese', 'crisps']\n",
      "This is the shuffled list:\n",
      "['eggs', 'spam', 'cheese', 'bacon', 'crisps']\n"
     ]
    }
   ],
   "source": [
    "print('Shuffling lists using the shuffle function:')\n",
    "\n",
    "\n",
    "print()\n",
    "x = [2,3,6,7,8,9,15,10]\n",
    "\n",
    "print('This is the original list:')\n",
    "print(x)\n",
    "\n",
    "print('This is the shuffled list:')\n",
    "np.random.default_rng().shuffle(x)\n",
    "print(x)\n",
    "\n",
    "print()\n",
    "\n",
    "print('The shuffle function can be used on a list of strings as well:')\n",
    "\n",
    "y = ['spam', 'eggs', 'bacon', 'cheese', 'crisps']\n",
    "\n",
    "print('This is the original list:')\n",
    "print(y)\n",
    "\n",
    "print('This is the shuffled list:')\n",
    "np.random.default_rng().shuffle(y)\n",
    "print(y)\n",
    "\n"
   ]
  },
  {
   "cell_type": "markdown",
   "metadata": {},
   "source": [
    "#### PERMUTATION FUNCTION"
   ]
  },
  {
   "cell_type": "markdown",
   "metadata": {},
   "source": [
    "A per the numpy documentation:\n",
    "\n",
    "> `Generator.permutation(x, axis=0)`\n",
    ">\n",
    ">Randomly permute a sequence, or return a permuted range\n",
    "\n",
    "In other words the permutation function will generate permutations of the given input array. Let's explore the concept of permutations below to fully understand what a permutation is:"
   ]
  },
  {
   "cell_type": "markdown",
   "metadata": {},
   "source": [
    "What is a permutation?\n",
    "\n",
    "As per Investopedia [2D]:\n",
    "\n",
    ">A permutation is a mathematical calculation of the number of ways a particular set can be arranged, where the order of the arrangement matters. \n",
    "\n",
    "In Summary [2D]:\n",
    "\n",
    ">* Premutation is the number of ways a set can be arranged. \n",
    ">* Roughly, it means, “how many ways can something be arranged.”  \n",
    ">* The order of numbers in a permutation, with a combination, however, the order does not matter.\n",
    "\n",
    "The short video below will further illustrate what a permutation is [3D]: "
   ]
  },
  {
   "cell_type": "code",
   "execution_count": 20,
   "metadata": {},
   "outputs": [
    {
     "data": {
      "image/jpeg": "[encoded data removed]",
      "text/html": [
       "\n",
       "        <iframe\n",
       "            width=\"400\"\n",
       "            height=\"200\"\n",
       "            src=\"https://www.youtube.com/embed/zRgB3hOfEMU\"\n",
       "            frameborder=\"0\"\n",
       "            allowfullscreen\n",
       "        ></iframe>\n",
       "        "
      ],
      "text/plain": [
       "<IPython.lib.display.YouTubeVideo at 0x18bee42b970>"
      ]
     },
     "execution_count": 20,
     "metadata": {},
     "output_type": "execute_result"
    }
   ],
   "source": [
    "id='zRgB3hOfEMU'\n",
    "YouTubeVideo(id=id,width=400,height=200)"
   ]
  },
  {
   "cell_type": "markdown",
   "metadata": {},
   "source": [
    "See examples of the permutation function below:"
   ]
  },
  {
   "cell_type": "code",
   "execution_count": 21,
   "metadata": {},
   "outputs": [
    {
     "name": "stdout",
     "output_type": "stream",
     "text": [
      "Creating permutations of list using the permutation function:\n",
      "\n",
      "This is the original list:\n",
      "[2, 3, 6, 7, 8, 9, 15, 10]\n",
      "This is the permuted list:\n",
      "[15  2  7  9  6 10  8  3]\n",
      "\n",
      "The permutation function can be used on a list of strings as well:\n",
      "This is the original list:\n",
      "['spam', 'eggs', 'bacon', 'cheese', 'crisps']\n",
      "This is the permuted  list:\n",
      "['crisps' 'spam' 'eggs' 'cheese' 'bacon']\n"
     ]
    }
   ],
   "source": [
    "print('Creating permutations of list using the permutation function:')\n",
    "\n",
    "\n",
    "print()\n",
    "x = [2,3,6,7,8,9,15,10]\n",
    "\n",
    "print('This is the original list:')\n",
    "print(x)\n",
    "\n",
    "print('This is the permuted list:')\n",
    "y = np.random.default_rng().permutation(x)\n",
    "print(y)\n",
    "\n",
    "print()\n",
    "\n",
    "print('The permutation function can be used on a list of strings as well:')\n",
    "\n",
    "z = ['spam', 'eggs', 'bacon', 'cheese', 'crisps']\n",
    "\n",
    "print('This is the original list:')\n",
    "print(z)\n",
    "\n",
    "print('This is the permuted  list:')\n",
    "a = np.random.default_rng().permutation(z)\n",
    "print(a)"
   ]
  },
  {
   "cell_type": "markdown",
   "metadata": {},
   "source": [
    "##### *Main difference between shuffle and permutation function:*\n",
    "\n",
    "The main difference between the shuffle and permutation function is that the shuffle function shuffles the original input (in-place) whereas the permutation function leaves the original input sequence intact.\n",
    "\n",
    "In the above examples we had to pass the output of the permutation function to a new variable to preserve the output from the function."
   ]
  },
  {
   "cell_type": "markdown",
   "metadata": {},
   "source": [
    "##### *Use of the shuffle and permutation function*\n",
    "\n",
    "The shuffle and permutation functions are used when we are looking to use the same data in multiples iterations of our program, however we need the data to be in ordered differently. This could be for useful if we are writing a program to unscramble words or for a password generator. We would need a function to quickly permute the data given in which case a function such as shuffle or permutation could be used."
   ]
  },
  {
   "cell_type": "markdown",
   "metadata": {},
   "source": [
    "##### References:\n",
    "\n",
    "[1D] Numpy Random Official Documentation - https://numpy.org/doc/stable/reference/random/generator.html\n",
    "\n",
    "[2D] Investopedia: Permutations page - https://www.investopedia.com/terms/p/permutation.asp\n",
    "\n",
    "[3D] Short youtube video on permutations: https://www.youtube.com/watch?v=zRgB3hOfEMU"
   ]
  },
  {
   "cell_type": "code",
   "execution_count": null,
   "metadata": {},
   "outputs": [],
   "source": []
  },
  {
   "cell_type": "markdown",
   "metadata": {},
   "source": [
    "## Part 3 - Use and purpose of at least five 'Distriubutions'"
   ]
  },
  {
   "cell_type": "markdown",
   "metadata": {},
   "source": [
    "### What Is a Probability Distribution?\n",
    "\n",
    ">A probability distribution is a statistical function that describes all the possible values and likelihoods that a random variable can take within a given range. This range will be bounded between the minimum and maximum possible values, but precisely where the possible value is likely to be plotted on the probability distribution depends on a number of factors. These factors include the distribution's mean (average), standard deviation, skewness, and kurtosis.[1E]\n",
    "\n",
    "\n",
    "Probability distribution data is very useful in generating data to test models that simulate real world data.\n",
    "\n",
    "There are a number of probability distribution and each are related to the other. The following is a chart will signify the relationship between these distributions (Credit: **Sean Owen - https://medium.com/@srowen/common-probability-distributions-347e6b945ce4)**:"
   ]
  },
  {
   "cell_type": "markdown",
   "metadata": {},
   "source": [
    "<img src=https://miro.medium.com/max/875/1*szMCjXuMDfKu6L9T9c34wg.png alt=\"Common probability distributions and some key relationships\" width=\"500\"/>"
   ]
  },
  {
   "cell_type": "markdown",
   "metadata": {},
   "source": [
    "\n",
    "Numpy random functions can generate a number of probability distributions,some of which are:\n",
    "\n",
    "- normal\n",
    "- uniform\n",
    "- binomial\n",
    "- multinominal\n",
    "- poisson\n",
    "- pareto\n"
   ]
  },
  {
   "cell_type": "markdown",
   "metadata": {},
   "source": [
    "##### References:\n",
    "\n",
    "\n",
    "[1E] - Investopedia Probability Distribution Webpage - https://www.investopedia.com/terms/p/probabilitydistribution.asp"
   ]
  },
  {
   "cell_type": "markdown",
   "metadata": {},
   "source": [
    "#### NORMAL DISTRIBUTION\n",
    "\n",
    "\n",
    "As per the numpy documentation:\n",
    "\n",
    "> `Generator.normal(loc=0.0, scale=1.0, size=None)`\n",
    ">\n",
    "> Draw random samples from a normal (Gaussian) distribution.\n",
    ">\n",
    "> The probability density function of the normal distribution, first derived by De Moivre and 200 years later by both Gauss and Laplace independently, is often called the bell curve because of its characteristic shape.\n",
    ">\n",
    "> The normal distributions occurs often in nature. For example, it describes the commonly occurring distribution of samples influenced by a large number of tiny, random disturbances, each with its own unique distribution.\n",
    "\n",
    "Normal distribution is the most common distribution of data that occurs naturally. It is the distribution of data which is symmetrical around the mean i.e. most of the values will occur around the mean and lesser data points will occur to further away from the mean. The distribution is called the 'bell curve' because in an ideal 'Normal' data is distributed around the mean symmetrically which causes it look like a bell. \n",
    "\n",
    "\n",
    "As per Investopedia:\n",
    "\n",
    "\n",
    ">The standard normal distribution has two parameters: the mean and the standard deviation. For a normal distribution, 68% of the observations are within +/- one standard deviation of the mean, 95% are within +/- two standard deviations, and 99.7% are within +- three standard deviations.[1F]\n",
    "\n",
    "\n",
    "The numpy normal function is has 3 main arguments, all of which are optional. The 'loc' argument is the 'mean' of and the 'scale' argument to the function is the 'standard deviation' of the distribution. The size argument is the size of the array to be generated from the function. "
   ]
  },
  {
   "cell_type": "code",
   "execution_count": 22,
   "metadata": {},
   "outputs": [
    {
     "data": {
      "text/plain": [
       "array([-0.26889758,  0.39285983, -0.49796557,  0.4908063 ,  2.26898109,\n",
       "        0.06959559, -0.29523363, -1.58533389,  0.33606098, -0.3991886 ])"
      ]
     },
     "execution_count": 22,
     "metadata": {},
     "output_type": "execute_result"
    }
   ],
   "source": [
    "np.random.default_rng().normal(size=10)"
   ]
  },
  {
   "cell_type": "code",
   "execution_count": 23,
   "metadata": {},
   "outputs": [
    {
     "data": {
      "text/plain": [
       "<matplotlib.axes._subplots.AxesSubplot at 0x18bee3fe7f0>"
      ]
     },
     "execution_count": 23,
     "metadata": {},
     "output_type": "execute_result"
    },
    {
     "data": {
      "image/png": "[encoded data removed]",
      "text/plain": [
       "<Figure size 432x288 with 1 Axes>"
      ]
     },
     "metadata": {},
     "output_type": "display_data"
    }
   ],
   "source": [
    "sns.distplot(np.random.default_rng().normal(loc=10, scale=3, size=1000), color='b', kde=True)"
   ]
  },
  {
   "cell_type": "markdown",
   "metadata": {},
   "source": [
    "##### *Use of the normal distribution*\n",
    "\n",
    "The normal distribution is arguably the most useful distribution generator in the numpy random module. This is because a lot of real life data follows a normal distribution or the bell curve such as most measurements including employee ratings, student grades, heights, shoe size, birth weights etc. Therefore a normal distribution curve is often used to generate simulations of such data for data analytics and machine learning purposes."
   ]
  },
  {
   "cell_type": "markdown",
   "metadata": {},
   "source": [
    "Reference:\n",
    "\n",
    "[1F] Investopedia Normal Distribution Webpage - https://www.investopedia.com/terms/n/normaldistribution.asp"
   ]
  },
  {
   "cell_type": "markdown",
   "metadata": {},
   "source": [
    "#### UNIFORM DISTRIBUTION\n",
    "\n",
    "\n",
    "As per the official numpy documentation:\n",
    "\n",
    ">`Generator.uniform(low=0.0, high=1.0, size=None)`\n",
    ">\n",
    ">Draw samples from a uniform distribution.\n",
    ">\n",
    ">Samples are uniformly distributed over the half-open interval (low, high) (includes low, but excludes high). In other words, any value within the given interval is equally likely to be drawn by uniform.\n",
    "\n",
    "\n",
    "As mentioned above a uniform distribution (as the name suggests) is a distribution where each item of a given population has an equal opportunity of being selected. \n",
    "\n",
    "This means as the number of items selected increase the distribution for  each item of the population will be approximately the same as all the other items in the population."
   ]
  },
  {
   "cell_type": "code",
   "execution_count": 24,
   "metadata": {},
   "outputs": [
    {
     "name": "stdout",
     "output_type": "stream",
     "text": [
      "[4.59914941]\n"
     ]
    }
   ],
   "source": [
    "print(np.random.default_rng().uniform(0, 9, size=1))"
   ]
  },
  {
   "cell_type": "code",
   "execution_count": 25,
   "metadata": {},
   "outputs": [
    {
     "data": {
      "text/plain": [
       "<matplotlib.axes._subplots.AxesSubplot at 0x18bee516e20>"
      ]
     },
     "execution_count": 25,
     "metadata": {},
     "output_type": "execute_result"
    },
    {
     "data": {
      "image/png": "[encoded data removed]",
      "text/plain": [
       "<Figure size 432x288 with 1 Axes>"
      ]
     },
     "metadata": {},
     "output_type": "display_data"
    }
   ],
   "source": [
    "sns.distplot(np.random.default_rng().uniform(10, size=10), color='violet', kde=True)"
   ]
  },
  {
   "cell_type": "code",
   "execution_count": 26,
   "metadata": {},
   "outputs": [
    {
     "data": {
      "text/plain": [
       "<matplotlib.axes._subplots.AxesSubplot at 0x18bee5774c0>"
      ]
     },
     "execution_count": 26,
     "metadata": {},
     "output_type": "execute_result"
    },
    {
     "data": {
      "image/png": "[encoded data removed]",
      "text/plain": [
       "<Figure size 432x288 with 1 Axes>"
      ]
     },
     "metadata": {},
     "output_type": "display_data"
    }
   ],
   "source": [
    "sns.distplot(np.random.default_rng().uniform(10, size=1000000), color='r', kde=True, hist=True)"
   ]
  },
  {
   "cell_type": "code",
   "execution_count": 27,
   "metadata": {},
   "outputs": [
    {
     "data": {
      "text/plain": [
       "<matplotlib.axes._subplots.AxesSubplot at 0x18bee5bc7f0>"
      ]
     },
     "execution_count": 27,
     "metadata": {},
     "output_type": "execute_result"
    },
    {
     "data": {
      "image/png": "[encoded data removed]",
      "text/plain": [
       "<Figure size 432x288 with 1 Axes>"
      ]
     },
     "metadata": {},
     "output_type": "display_data"
    }
   ],
   "source": [
    "sns.distplot(np.random.default_rng().uniform(10, size=100), color='g', kde=True, hist=False)\n",
    "sns.distplot(np.random.default_rng().uniform(10, size=1000), color='blue', kde=True, hist=False)\n",
    "sns.distplot(np.random.default_rng().uniform(10, size=100000), color='red', kde=True, hist=False)"
   ]
  },
  {
   "cell_type": "markdown",
   "metadata": {},
   "source": [
    "##### *Use of the uniform distribution*\n",
    "\n",
    "The uniform distribution is used to simulate datasets in which each item has the same chance of being selected. This is useful in generating data such as dice rolls, where the chance of each side being rolled is the same.\n",
    "\n",
    "As can be seen in the plot above, as the number of iterations or trials increase, so does the uniformity of the items selected. This can be seen in the 'block' of histograms and the table top plot above."
   ]
  },
  {
   "cell_type": "markdown",
   "metadata": {},
   "source": [
    "#### BINOMIAL DISTRIBUTION\n",
    "\n",
    "> `Generator.binomial(n, p, size=None)`\n",
    ">\n",
    "> Draw samples from a binomial distribution.\n",
    ">\n",
    "> Samples are drawn from a binomial distribution with specified parameters, n trials and p probability of success where n an integer >= 0 and p is in the interval [0,1]. (n may be input as a float, but it is truncated to an integer in use)\n",
    "\n",
    "\n",
    "Binomial distribution will give the sum of the outcomes of 'n' number of trials where the probability of the 'binomial' outcome, ZERO or ONE is 'p'. In other words 'p' is the probability of success that a True value or '1' value will come up for each n trials. The result of the function is the **sum** of successful outcomes (remember that True is '1') for each iteration of 'n' trials. The size refers to the number of times (scenarios) that the 'n' trials are run (independent of each other)\n",
    "\n",
    "As an example: Let's say that a company is looking to open up a fast food franchise in 10 cities in Dublin. It needs at least 5 of these to break even in order for the company to remain profitable by the end of the year. The company estimates that they have a 40% chance of success in each city.\n",
    "\n",
    "In this case n=10 and p=0.4 (or 40%). If we were to run the model 50,000 times the outcomes would be as below:\n",
    "\n",
    "*(Reference: Example based on example within the numpy binomial distribution documentation)*"
   ]
  },
  {
   "cell_type": "code",
   "execution_count": 28,
   "metadata": {},
   "outputs": [
    {
     "name": "stdout",
     "output_type": "stream",
     "text": [
      "16.46 %\n"
     ]
    },
    {
     "data": {
      "text/plain": [
       "<matplotlib.axes._subplots.AxesSubplot at 0x18bee638ca0>"
      ]
     },
     "execution_count": 28,
     "metadata": {},
     "output_type": "execute_result"
    },
    {
     "data": {
      "image/png": "[encoded data removed]",
      "text/plain": [
       "<Figure size 432x288 with 1 Axes>"
      ]
     },
     "metadata": {},
     "output_type": "display_data"
    }
   ],
   "source": [
    "x = np.random.default_rng().binomial(10, 0.4, size=50000) # 10 franchises with a 40% success rate and 50,000 scenarios run\n",
    "y = (sum((x>5))/50000) # proportion of outcomes in which number of franchises succeeding is >5\n",
    "print(round(y*100,2), \"%\") #percentage of outcome\n",
    "sns.distplot(x, color='r', hist=True, kde=False) #plotting the outcomes"
   ]
  },
  {
   "cell_type": "markdown",
   "metadata": {},
   "source": [
    "##### Analysis of the above:\n",
    "\n",
    "Based on the above, the chance of more than 5 franchises breaking even is about 16.5%.\n",
    "\n",
    "This can be seen clearly in the plot above where we can do a rough count of the number of items over 5 (i.e. histograms from 6 to 10). Other observations that can be made from viewing the plot above are:\n",
    "\n",
    "- The probability that none of the franchises will be successful is very low, but does exist\n",
    "- A reasonable chance of success seems to be >3 or >4 franchises being successful, as the number 4 histogram seem to have the highest value\n",
    "- The outcome seems to resemble a normal distribution curve\n",
    "\n",
    "As per http://staweb.sta.cathedral.org/departments/math/mhansen/public_html/23stat/handouts/normbino.htm#:~:text=A%20binomial%20distribution%20is%20very,between%20any%20two%20data%20values.\n",
    "\n",
    ">A binomial distribution is very different from a normal distribution, and yet if the sample size is large enough, the shapes will be quite similar.\n",
    ">\n",
    ">The key difference is that a binomial distribution is discrete, not continuous. In other words, it is NOT possible to find a data value between any two data values."
   ]
  },
  {
   "cell_type": "markdown",
   "metadata": {},
   "source": [
    "##### *Use of the binomial distribution*\n",
    "\n",
    "The binomial distribution is used to generate simulations of data which requires data where binary conditions exist. The above example provided is a typical use case for binomial distributions.\n",
    "\n",
    "Another example would be to generate data relating to the outcomes of a coin toss and analyse that data."
   ]
  },
  {
   "cell_type": "markdown",
   "metadata": {},
   "source": [
    "#### MULTINOMIAL DISTRIBUTION\n",
    "\n",
    "> `Generator.multinomial(n, pvals, size=None)`\n",
    ">\n",
    ">Draw samples from a multinomial distribution.\n",
    ">\n",
    ">The multinomial distribution is a multivariate generalization of the binomial distribution. Take an experiment with one of p possible outcomes. An example of such an experiment is throwing a dice, where the outcome can be 1 through 6. Each sample drawn from the distribution represents n such experiments. Its values, X_i = [X_0, X_1, ..., X_p], represent the number of times the outcome was i.\n",
    "\n",
    "The multinomial distribution is similar to the binomial distribution, mentioned above. One of the main difference between the binomial and multinomial distributions is that the multinomial distribution can assign multiple probabilities to each of the scenarios and 'n' in this case refers to the number of scenarios run. The size argument in this case will be the number of scenarios of the scenarios run. This will be explain through the example below:\n",
    "\n",
    "Example:\n",
    "\n",
    "A blood bank is looking to estimate the number of units of each blood type that will be delivered to the blood bank over the course of the month. It has estimated that the probability of each blood type is as follows:\n",
    "\n",
    "O+  - 37%\n",
    "O-  - 8%\n",
    "A+  - 33%\n",
    "A-  - 7%\n",
    "B+  - 9%\n",
    "B-  - 2%\n",
    "AB+ - 3%\n",
    "AB- - 1%\n",
    "\n",
    "Source: (https://www.livescience.com/36559-common-blood-type-donation.html)\n",
    "\n",
    "In this case n is the number of patients are 1,000 (number of scenarios run or 'n') and  pvals=[0.37, 0.08, 0.33, 0.07, 0.09, 0.02, 0.03, 0.01]. If we were to run the model the outcomes would be as below:"
   ]
  },
  {
   "cell_type": "code",
   "execution_count": 29,
   "metadata": {},
   "outputs": [
    {
     "name": "stdout",
     "output_type": "stream",
     "text": [
      "The number of donors having blood group type O+ is: 342\n",
      "The number of donors having blood group type O- is: 74\n",
      "The number of donors having blood group type A+ is: 352\n",
      "The number of donors having blood group type A- is: 74\n",
      "The number of donors having blood group type B+ is: 92\n",
      "The number of donors having blood group type B- is: 17\n",
      "The number of donors having blood group type AB+ is: 37\n",
      "The number of donors having blood group type AB- is: 12\n"
     ]
    }
   ],
   "source": [
    "list_blood_types = ['O+', 'O-','A+','A-', 'B+', 'B-', 'AB+','AB-']\n",
    "\n",
    "#y = [1 ,2 ,3 ,4 ,5 ,6 ,7 ,8]\n",
    "x = np.random.default_rng().multinomial(n=1000, pvals=[0.37, 0.08, 0.33, 0.07, 0.09, 0.02, 0.03, 0.01], size=1) # 1000 patients with various bloodgroup types\n",
    "z = 0\n",
    "for blood_type in list_blood_types:\n",
    "    print('The number of donors having blood group type', blood_type, 'is:', x[0][z])\n",
    "    z+=1\n"
   ]
  },
  {
   "cell_type": "markdown",
   "metadata": {},
   "source": [
    "##### *Use of the multinomial distribution*\n",
    "\n",
    "The multinomial distribution is used to generate simulations of data which requires data each of the conditions that exist can be assigned a different probability of occurrence. The above example provided is a typical use case for multinomial distributions."
   ]
  },
  {
   "cell_type": "markdown",
   "metadata": {},
   "source": [
    "#### POISSON DISTRIBUTION\n",
    "\n",
    "> `Generator.poisson(lam=1.0, size=None)`\n",
    ">\n",
    "> Draw samples from a Poisson distribution.\n",
    ">\n",
    "> The Poisson distribution is the limit of the binomial distribution for large N.\n",
    "\n",
    "\n",
    "A Poisson distribution denotes the probability that if an event 'a' happens 'n' number of times, then it will happen 't' number of times. For example, if a person orders a takeout 3 times a week, a Poisson distribution will estimate the probability of ordering a takeout more or less than 3 times a week.\n",
    "\n",
    "It should be noted that a Poisson distribution is a discrete distribution.\n",
    "\n",
    "\n",
    "The function in numpy takes two arguments 'lam', which is the number of known occurrences over a timeframe and 'size' which refers to the number of times (scenarios) are run.\n",
    "\n",
    "##### Example:\n",
    "\n",
    "Mr. A orders a takeout 3 times a week. Using We will estimate the probability, using a Poisson distribution, that Mr A. will order less than 2 takeouts in a week:"
   ]
  },
  {
   "cell_type": "code",
   "execution_count": 30,
   "metadata": {},
   "outputs": [
    {
     "name": "stdout",
     "output_type": "stream",
     "text": [
      "19.8 %\n"
     ]
    },
    {
     "data": {
      "text/plain": [
       "<matplotlib.axes._subplots.AxesSubplot at 0x18bee66ae50>"
      ]
     },
     "execution_count": 30,
     "metadata": {},
     "output_type": "execute_result"
    },
    {
     "data": {
      "image/png": "[encoded data removed]",
      "text/plain": [
       "<Figure size 432x288 with 1 Axes>"
      ]
     },
     "metadata": {},
     "output_type": "display_data"
    }
   ],
   "source": [
    "x = np.random.default_rng().poisson(lam = 3, size=1000) # Orders a takeout 3 times in a week. 1,000 scenarios run\n",
    "y = (sum((x<2))/1000) # proportion of outcomes in which the number of takeouts ordered is less than 2\n",
    "print(round(y*100,2), \"%\") #percentage of outcome\n",
    "sns.distplot(x, color='b', hist=True, kde=False) #plotting the outcomes"
   ]
  },
  {
   "cell_type": "markdown",
   "metadata": {},
   "source": [
    "##### Analysis of the above:\n",
    "\n",
    "Based on the above, the chance that Mr A. will order a takeout less than 5 times a week is about 20%.\n",
    "\n",
    "\n",
    "The plot above is a visual representation, that if the scenario is run 1000 times, the plot shows the count of the number of times that each run will output i.e. 0 and 6 came up around 50 times which means that in 1000 scenarios run the number of times that he will order zero takeouts or 6 takeouts are 50 times each.\n",
    "\n",
    "Other observations that can be made from viewing the plot above are:\n",
    "\n",
    "- Even though the number of times that he orders a takeout is 3, there is a relatively significant probability that he will not order any (or zero) takeouts during the week.\n",
    "- The number of observations in the '2' and '3' categories seem to be the highest. Interestingly number 2 has a higher count of occurrences than 3 (which is the observed input)\n",
    "- The outcome seems to vaguely resemble a normal distribution curve. We know that they are related and we will explore the relation in a later section."
   ]
  },
  {
   "cell_type": "markdown",
   "metadata": {},
   "source": [
    "##### *Use of the Poisson distribution*\n",
    "\n",
    "See example above for typical use of Poisson data. It will be used to generate a dataset where a there is a known occurrence of a variable and the user is looking to analyse the probability of the distribution of further occurrences of that variable."
   ]
  },
  {
   "cell_type": "markdown",
   "metadata": {},
   "source": [
    "#### PARETO DISTRIBUTION [2G]\n",
    "\n",
    "> `Generator.pareto(a, size=None)`\n",
    ">\n",
    ">Draw samples from a Pareto II or Lomax distribution with specified shape.\n",
    ">\n",
    ">The Lomax or Pareto II distribution is a shifted Pareto distribution. The classical Pareto distribution can be obtained from the Lomax distribution by adding 1 and multiplying by the scale parameter m (see Notes). The smallest value of the Lomax distribution is zero while for the classical Pareto distribution it is mu, where the standard Pareto distribution has location mu = 1. Lomax can also be considered as a simplified version of the Generalized Pareto distribution (available in SciPy), with the scale set to one and the location set to zero.\n",
    ">\n",
    ">The Pareto distribution must be greater than zero, and is unbounded above. It is also known as the “80-20 rule”. In this distribution, 80 percent of the weights are in the lowest 20 percent of the range, while the other 20 percent fill the remaining 80 percent of the range.\n",
    "\n",
    "\n",
    "The Pareto distribution follows the Pareto Principal which is also called the 80-20 Rule [1G] . Simply put the 80-20 states that 80% of outputs or outcomes result from 20% of all inputs or causes for any given event. \n",
    "\n",
    "The Pareto distribution, named after the Italian civil engineer, economist, and sociologist Vilfredo Pareto.\n",
    "\n",
    "The Pareto principal has been observes in many real life scenarios for example:\n",
    "\n",
    "1. Wealth distribution in nations, communities\n",
    "2. The distribution of employees contributing to the success of an organisation (20% of employees contribute to 80% success)\n",
    "3. The distribution of the quantum of compalains by customers for a business\n",
    "\n",
    "The Pareto distibution is therefore used to generate data to model scenarios which will follow the 80/20 rule.\n",
    "\n",
    "As can be seen below the distribution of the data is skewed in a way where 80 % of the values will be in the lower 20% of the distributions and vice verce\n",
    "\n",
    "\n",
    "\n",
    "##### Reference:\n",
    "\n",
    "[1G] - Investopedia 80/23 Rule: https://www.investopedia.com/terms/1/80-20-rule.asp)\n",
    "\n",
    "[2G] -  Wikipedia page Pareto Distibution: https://en.wikipedia.org/wiki/Pareto_distribution)\n",
    "\n",
    "[3G] - How to add outlines to histograms in seaborn: https://datavizpyr.com/add-outine-to-histogram-in-seaborn/\n"
   ]
  },
  {
   "cell_type": "code",
   "execution_count": 31,
   "metadata": {},
   "outputs": [
    {
     "data": {
      "text/plain": [
       "<matplotlib.axes._subplots.AxesSubplot at 0x18bee78ce80>"
      ]
     },
     "execution_count": 31,
     "metadata": {},
     "output_type": "execute_result"
    },
    {
     "data": {
      "image/png": "[encoded data removed]",
      "text/plain": [
       "<Figure size 432x288 with 1 Axes>"
      ]
     },
     "metadata": {},
     "output_type": "display_data"
    }
   ],
   "source": [
    "x = np.random.default_rng().pareto(a=10, size=10000) \n",
    "sns.distplot(x, color='b', hist=True, kde=True, hist_kws=dict(edgecolor=\"black\", linewidth=1))"
   ]
  },
  {
   "cell_type": "markdown",
   "metadata": {},
   "source": [
    "##### *Use of the pareto distribution*\n",
    "\n",
    "The above given examples specify where the pareto distributions may be used to generate a data set."
   ]
  },
  {
   "cell_type": "markdown",
   "metadata": {},
   "source": [
    "#### COMPARATIVE ANALYSIS OF THE  RELEVANT DISTRIBUTION PLOTS:"
   ]
  },
  {
   "cell_type": "code",
   "execution_count": 32,
   "metadata": {},
   "outputs": [
    {
     "data": {
      "text/plain": [
       "<matplotlib.legend.Legend at 0x18bee8858b0>"
      ]
     },
     "execution_count": 32,
     "metadata": {},
     "output_type": "execute_result"
    },
    {
     "data": {
      "image/png": "[encoded data removed]",
      "text/plain": [
       "<Figure size 432x288 with 1 Axes>"
      ]
     },
     "metadata": {},
     "output_type": "display_data"
    }
   ],
   "source": [
    "sns.distplot(np.random.default_rng().normal(loc=10, scale=3, size=20000), color='red', kde=False, hist=True, label='Normal Distribution')\n",
    "\n",
    "\n",
    "sns.distplot(np.random.default_rng().uniform(50, size=10000), color='gray', kde=False, hist=True, label='Uniform Distribution')\n",
    "\n",
    "\n",
    "sns.distplot(np.random.default_rng().binomial(100, 0.4, size=10000), color='b', hist=True, kde=False, label='Binomial Distribution')\n",
    "\n",
    "sns.distplot(np.random.default_rng().poisson(lam = 30, size=10000), color='gold', hist=True, kde=False, label='Poisson Distribution')\n",
    "\n",
    "\n",
    "sns.distplot(np.random.default_rng().pareto(a=10, size=10000) , color='orange', hist=True, kde=False, label='Pareto Distribution')\n",
    "\n",
    "plt.legend()\n"
   ]
  },
  {
   "cell_type": "markdown",
   "metadata": {},
   "source": [
    "##### Analysis:\n",
    "\n",
    "As can be seen from the above plots, as expected, at higher 'sizes' (or tests or trials) the normal, binomial and Poisson distributions are very similar to a normal distribution as they are offshoots of the 'Bernoulli distribution'.\n",
    "\n",
    "The Pareto distribution is very constrained and follows the 80/20 distribution as its informal name suggests.\n",
    "\n",
    "The uniform distribution shows the steady distribution of the data across each variable."
   ]
  },
  {
   "cell_type": "markdown",
   "metadata": {},
   "source": [
    "## Part 4 - Use of seeds in generating pseudorandom numbers"
   ]
  },
  {
   "cell_type": "markdown",
   "metadata": {},
   "source": [
    "### Introduction\n",
    "\n",
    "As mentioned Part 1, random numbers are generated using Pseudo Random Number Generators (PRNG). To understand what a seed is we will explore an example of a PRNG called the Linear Congruential Generator.\n",
    "\n",
    "As random seed (as per Wikipedia) [3H]:\n",
    "\n",
    ">A random seed (or seed state, or just seed) is a number (or vector) used to initialize a pseudorandom number generator.\n",
    ">\n",
    ">A pseudorandom number generator's number sequence is completely determined by the seed: thus, if a pseudorandom number generator is reinitialized with the same seed, it will produce the same sequence of numbers.\n",
    "\n",
    "\n",
    "In other words, since PRN's are generated using an algorithm. A number is needed to start off the random number generation process. This starting number is called a seed. The seed can be specified by the user of the PRNG or be determined by entropy (use of external sources generated from say the date/time, processes etc. within the computer system). \n",
    "\n",
    "This is why if the same 'seed' is used then the same sequence of random numbers will be generated. This may be important to the user where the user wants the same random data to be generated multiple times in order (for e.g.) to run validation tests on the model being produced.  \n",
    "\n",
    "\n",
    "In order to understand the working of a seed number in random number generation, we will look at one of the oldest PRNG, called the Linear Congruential Generator (\"LCG\") [5H] . The LCG was used for a long time before more complex generators were developed.\n",
    "\n",
    "\n",
    "The LCG recursive formula is as follows [3H] [4H]:\n",
    "\n",
    "$X_{n+1} = (aX_n + c) \\ mod \\ m $\n",
    "\n",
    "*where:*\n",
    "\n",
    "$m$ is the integer modulus, 0 < $m$\n",
    "\n",
    "$a$ is the multiplier, 0 < $a$ < $m$;\n",
    "\n",
    "$c$ is the increment, 0 ≤ $c$ < $m$;\n",
    "\n",
    "$X_n$ is the seed value, 0 ≤ $X_n$ < $m$;\n",
    "\n",
    "(remember mod is the modulus after division by m operation)\n",
    "\n",
    "\n",
    "Let's see how the LCG will generate random data:"
   ]
  },
  {
   "cell_type": "code",
   "execution_count": 33,
   "metadata": {},
   "outputs": [],
   "source": [
    "def lcg(n, s): #function to generate 'n' random number with 's' seed \n",
    "    num_list = []\n",
    "    for i in range(n):\n",
    "        s = ((7459 * s) + 3557) % 9462 #where a = 7459; c = 3557 and m = 9462\n",
    "        num_list.append(s)\n",
    "    return num_list"
   ]
  },
  {
   "cell_type": "code",
   "execution_count": 34,
   "metadata": {
    "scrolled": true
   },
   "outputs": [
    {
     "name": "stdout",
     "output_type": "stream",
     "text": [
      "List 1: [3797, 5614, 9033, 1802, 8635, 4188, 7787, 9034, 9261, 8756, 7837, 3504, 5849, 1966, 1851]\n",
      "List 2: [6501, 1766, 5047, 9294, 8891, 2368, 915, 6440, 943, 7128, 4331, 5218, 7413, 1196, 1855]\n",
      "List 3: [9445, 9222, 1715, 3118, 3123, 2570, 3175, 2496, 5, 3004, 4377, 7700, 3517, 8196, 3539]\n",
      "List 4: [4834, 681, 2042, 1015, 4842, 3581, 3010, 1821, 8426, 6487, 1422, 3353, 5518, 2619, 9110]\n",
      "List 5: [6645, 6656, 3547, 4878, 7169, 7366, 717, 5630, 5371, 3738, 785, 1894, 4137, 5858, 2863]\n",
      "List 6: [3797, 5614, 9033, 1802, 8635, 4188, 7787, 9034, 9261, 8756, 7837, 3504, 5849, 1966, 1851]\n"
     ]
    }
   ],
   "source": [
    "print('List 1:', lcg(15, 1110))\n",
    "print('List 2:', lcg(15, 1000))\n",
    "print('List 3:', lcg(15, 2000))\n",
    "print('List 4:', lcg(15, 2555))\n",
    "print('List 5:', lcg(15, 1666))\n",
    "print('List 6:', lcg(15, 1110))"
   ]
  },
  {
   "cell_type": "markdown",
   "metadata": {},
   "source": [
    "##### Based on the above we can make a number of observations:\n",
    "- The lists generated will be different as the seed changes i.e. the seed drives the random number sequence\n",
    "- The same seed will generate the same sequence, therefore there can be repeatability where desired. As can be seen in the lcg function above **List 1 and List 6 will be identical** as they have been generated using the same seed.\n",
    "- The modulus will be the upper limit of the numbers that can be produced in the lcg function above\n",
    "- A large number for the variables used (a, c and m) as well as a sufficiently large seeds will generate better sequences. This is the case for most PRNG\n",
    "- The 'formula' will need to be sufficiently complicated to not induce bias or simplicity. In case of the above we can see that the lcg function generates alternative even and odd numbers (which may be deemed not sufficiently random)\n"
   ]
  },
  {
   "cell_type": "markdown",
   "metadata": {},
   "source": [
    "The key components of the LCG (and indeed any PRNG) are:\n",
    "\n",
    "- the seed: as described above this is the starting point of any PRNG\n",
    "- the 'state': the first and subsequent values which drive the generating further random numbers. The state can be driven by the seed and/or entropy\n",
    "- the period: the duration/sequence after which the random numbers will start repeating their sequence, thus rendering them the PRNG in effective"
   ]
  },
  {
   "cell_type": "markdown",
   "metadata": {},
   "source": [
    "The PRNGs used in numpy random were the Mersenne Twister and more recently the PCG64. Let's have a quick look at what each of them are. Both are very technical in nature so the below is only a very high level overview of these PRNGs:\n",
    "\n",
    "#### Mersenne Twister:\n",
    "\n",
    "As per Wikipedia:\n",
    "\n",
    ">The Mersenne Twister is a pseudorandom number generator (PRNG). It is by far the most widely used general-purpose PRNG.[1] Its name derives from the fact that its period length is chosen to be a Mersenne prime.\n",
    ">\n",
    ">The Mersenne Twister was developed in 1997 by Makoto Matsumoto and Takuji Nishimura.\n",
    ">\n",
    ">The most commonly used version of the Mersenne Twister algorithm is based on the Mersenne prime $2^{19937}−1$. The standard implementation of that, MT19937, uses a 32-bit word length. \n",
    "\n",
    "Put very simply the Mersenne Twister (MT) works by:\n",
    "\n",
    "- the initial 'state' of the MT generator is set by generating an array of 624 32-bit numbers which are initialised by the 'seed'\n",
    "- Once the array has been called the random numbers will be generated from the array\n",
    "- after every 'n' numbers there will be a 'twist' (based on values of a tempered matrix). This is an example of bitshifting which simply put is moving the selection by n number from the current selection. Bitshifting is widely used in PRNGs.\n",
    "- After the array of 624 numbers is exhausted a new array of 624 32-bit numbers will be called from the MT sequence\n",
    "- As MT is based on $2^{19937}−1$ values, the *period* is very large and the sequence will therefore not repeat\n",
    "\n",
    "#### Permuted Congruential Generator (PCG)\n",
    "\n",
    "As per Wikipedia:\n",
    "\n",
    "> A permuted congruential generator (PCG) is a pseudorandom number generation algorithm developed in 2014 which applies an output permutation function to improve the statistical properties of a modulo-2n linear congruential generator. It achieves excellent statistical performance with small and fast code, and small state size.\n",
    ">\n",
    "> A PCG differs from a classical linear congruential generator in three ways:\n",
    ">\n",
    "> - the LCG modulus and state is larger, usually twice the size of the desired output,\n",
    "> - it uses a power-of-2 modulus, which results in a particularly efficient implementation with a full period generator and unbiased output bits, and \n",
    "> - the state is not output directly, but rather the most significant bits of the state are used to select a bitwise rotation or shift which is applied to the state to produce the output.\n",
    "\n",
    "\n",
    "The PCG works in the following way:\n",
    "\n",
    "- It is basically a LCG with a more complexity\n",
    "- The 'state' derived by the LCG engine of the PCG is 'permuted' (which is why it is called the permuted congruential generator)\n",
    "- The state is permuted by creating tuples out of the n sets of bits generated and then using the first element of the tuple (comprising of two or three bits) to permute the second element of the tuple\n",
    "- Some variations of PCG use some or all of the the permutations: bitshifting (xor), discarding bits and rotating bit"
   ]
  },
  {
   "cell_type": "markdown",
   "metadata": {},
   "source": [
    "#### Why has PCG been chosen over MT in Numpy\n",
    "\n",
    "The PCG was chosen over the MT because of the following main reasons (taken from the PCG website but these shortcoming of MT are widely acknowledged):\n",
    "\n",
    "\n",
    "Shortcomings of the MT [7H]:\n",
    "\n",
    "- Fails some statistical tests, with as few as 45,000 numbers.\n",
    "- Predictable — after 624 outputs, we can completely predict its output.\n",
    "- Generator state occupies 2504 bytes of RAM — in contrast, an extremely usable generator with a huger-than-anyone-can-ever-use period can fit in 8 bytes of RAM.\n",
    "- Not particularly fast.\n",
    "- Not particularly space efficient. \n"
   ]
  },
  {
   "cell_type": "markdown",
   "metadata": {},
   "source": [
    "#### Seed Generation in Numpy Random\n",
    "\n",
    "As mentioned above the numpy random module went from using the MT to using PCG64 as its default Bitgenerator. There is still backward compatibility within the module which means that the MT can still be used although this is not recommended.\n",
    "\n",
    "The 'Generator' (Gererator and Bitgenerator are explained in Part I) used the PCG64 as the default bitgenerator whereas 'RandomState' uses MT19937 as its bitgenerator. The main difference between the two is that the 'Generator' can be initialised with a number of different Bitgenerator whereas, the legacy 'RandomState', is limited to a single Bitgenerator (i.e MT19937).\n",
    "\n",
    "As can be seen above the seed is very important in providing reproduceable results as well as produce a high quality of randomness. In the new version of numpy random the all Bitgenerators delegate the taking of a user specified or generated 'seed' and processing them into a high-quality internal 'state' to the 'SeedSequence'. In other words SeedSequence ensure that even low quality seeds generate high quality states.\n",
    "\n",
    "The methods of reproducibility of the seeds has also changed in the new version of the module as the default 'seed' function has been discontinued in the new version and instead the seed has to be provided when initialising the default RNG.\n",
    "\n",
    "We will look at this via a couple of examples below:"
   ]
  },
  {
   "cell_type": "markdown",
   "metadata": {},
   "source": [
    "##### *Old version:*"
   ]
  },
  {
   "cell_type": "code",
   "execution_count": 35,
   "metadata": {},
   "outputs": [
    {
     "name": "stdout",
     "output_type": "stream",
     "text": [
      "Using the default seed, the output is: [8 4 1 3 2]\n",
      "Using SEED 1, the output is: [3 5 4 6 7]\n",
      "Using SEED 2, the output is: [6 3 5 1 3]\n",
      "If we use SEED 1 again, we get the same output as before: [3 5 4 6 7]\n",
      "If we use SEED 2 again, we get the same output as before: [6 3 5 1 3]\n"
     ]
    }
   ],
   "source": [
    "x = np.random.randint(10, size=5) # Generate an array without setting the seed\n",
    "print('Using the default seed, the output is:', x) # print array\n",
    "\n",
    "np.random.seed(25565) # Set a seed - SEED 1\n",
    "\n",
    "x = np.random.randint(10, size=5) #Generate an array setting a seed \n",
    "print('Using SEED 1, the output is:', x) # print array\n",
    "\n",
    "np.random.seed(36655) # Set a different seed - SEED 2\n",
    "\n",
    "x = np.random.randint(10, size=5) #Generate an array using a different seed\n",
    "print('Using SEED 2, the output is:', x)\n",
    "\n",
    "np.random.seed(25565) # Set the seed to SEED 1 again\n",
    " \n",
    "x = np.random.randint(10, size=5) #Generate an array using SEED 1 again \n",
    "print('If we use SEED 1 again, we get the same output as before:', x) # print array using seed 1\n",
    "\n",
    "np.random.seed(36655) # Set the seed to SEED 2 again\n",
    "\n",
    "x = np.random.randint(10, size=5) #Generate an array using SEED 2\n",
    "print('If we use SEED 2 again, we get the same output as before:', x)\n",
    "\n"
   ]
  },
  {
   "cell_type": "markdown",
   "metadata": {},
   "source": [
    "##### *New version:*"
   ]
  },
  {
   "cell_type": "code",
   "execution_count": 36,
   "metadata": {
    "scrolled": true
   },
   "outputs": [
    {
     "name": "stdout",
     "output_type": "stream",
     "text": [
      "Using the default seed, the output is: [6 7 7 3 8]\n",
      "Using SEED 1, the output is: [3 4 0 9 9]\n",
      "Using SEED 2, the output is: [1 8 3 0 3]\n",
      "If we use SEED 1 again, we get the same output as before: [3 4 0 9 9]\n",
      "If we use SEED 2 again, we get the same output as before: [1 8 3 0 3]\n"
     ]
    }
   ],
   "source": [
    "rng = np.random.default_rng() #initate the default RNG with no seed specified\n",
    "x = rng.integers(10, size=5)\n",
    "print('Using the default seed, the output is:', x)\n",
    "\n",
    "rng = np.random.default_rng(25565) #initate the default RNG with SEED 1\n",
    "x = rng.integers(10, size=5)\n",
    "print('Using SEED 1, the output is:', x)\n",
    "\n",
    "rng = np.random.default_rng(36655) #initate the default RNG with SEED 2\n",
    "x = rng.integers(10, size=5)\n",
    "print('Using SEED 2, the output is:', x)\n",
    "\n",
    "rng = np.random.default_rng(25565) #initate the default RNG with SEED 1 AGAIN\n",
    "x = rng.integers(10, size=5)\n",
    "print('If we use SEED 1 again, we get the same output as before:', x)\n",
    "\n",
    "rng = np.random.default_rng(36655) #initate the default RNG with SEED 2 AGAIN\n",
    "x = rng.integers(10, size=5)\n",
    "print('If we use SEED 2 again, we get the same output as before:', x)\n"
   ]
  },
  {
   "cell_type": "markdown",
   "metadata": {},
   "source": [
    "##### *Observations:*\n",
    "\n",
    "- As can be seen in both seeds can be used in both the 'Generator' and 'RandomState' versions of Numpy random\n",
    "- Both version produce the same results when the same seed has been used\n",
    "- The same seed used on different Bitgenerators (MT for old version and PCG64 for new version) produce different results\n",
    "- The older method ('seed' function) seems to much more user friendly in setting of the seed."
   ]
  },
  {
   "cell_type": "markdown",
   "metadata": {},
   "source": [
    "##### References: \n",
    "\n",
    "[1H] - Melissa O'Neill -Stanford Seminar - PCG: A Family of Better Random Number Generators:  https://www.youtube.com/watch?v=45Oet5qjlms\n",
    "\n",
    "[2H] - Video on Linear Congruential Generator: https://www.youtube.com/watch?reload=9&v=PtEivGPxwAI\n",
    "\n",
    "[3H] - Wikipedia Random Seed: https://en.wikipedia.org/wiki/Random_seed\n",
    "\n",
    "[4H] - Linear Congruential Generator Formula: https://en.wikipedia.org/wiki/Linear_congruential_generator\n",
    "\n",
    "[5H] - Video by NMCS4ALL: Random number generators: https://www.youtube.com/watch?v=_tN2ev3hO14\n",
    "\n",
    "[6H] - PCG Website: https://www.pcg-random.org/\n",
    "\n",
    "[7H] - Comparison of PCG to Other Generators: https://www.pcg-random.org/other-rngs.html\n"
   ]
  },
  {
   "cell_type": "markdown",
   "metadata": {},
   "source": [
    "## END\n",
    "***"
   ]
  },
  {
   "cell_type": "code",
   "execution_count": null,
   "metadata": {},
   "outputs": [],
   "source": []
  }
 ],
 "metadata": {
  "kernelspec": {
   "display_name": "Python 3",
   "language": "python",
   "name": "python3"
  },
  "language_info": {
   "codemirror_mode": {
    "name": "ipython",
    "version": 3
   },
   "file_extension": ".py",
   "mimetype": "text/x-python",
   "name": "python",
   "nbconvert_exporter": "python",
   "pygments_lexer": "ipython3",
   "version": "3.8.3"
  }
 },
 "nbformat": 4,
 "nbformat_minor": 4
}
